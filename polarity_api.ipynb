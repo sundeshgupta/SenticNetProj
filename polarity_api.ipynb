{
 "cells": [
  {
   "cell_type": "code",
   "execution_count": 1,
   "source": [
    "\n",
    "# importing the requests library\n",
    "import requests\n",
    "import pandas as  pd\n",
    "import pickle\n",
    "import re"
   ],
   "outputs": [],
   "metadata": {}
  },
  {
   "cell_type": "code",
   "execution_count": 2,
   "source": [
    "data = pd.read_csv('./silver_dataset.csv')\n",
    "\n",
    "# tweets = data['tweet'].tolist()"
   ],
   "outputs": [],
   "metadata": {}
  },
  {
   "cell_type": "code",
   "execution_count": 3,
   "source": [
    "# api-endpoint\n",
    "ENDPOINT = \"https://sentic.net/api/en/\""
   ],
   "outputs": [],
   "metadata": {}
  },
  {
   "cell_type": "code",
   "execution_count": 4,
   "source": [
    "POLARITY_KEY = 'UBHiejvp0lXkG.py'"
   ],
   "outputs": [],
   "metadata": {}
  },
  {
   "cell_type": "code",
   "execution_count": 5,
   "source": [
    "URL = ENDPOINT + POLARITY_KEY"
   ],
   "outputs": [],
   "metadata": {}
  },
  {
   "cell_type": "code",
   "execution_count": 6,
   "source": [
    "# location given here\n",
    "text = \"I've had my 2nd dose of Covid :Vaccine. I got myself vaccinated to protect my service , my colleagues and myself. As a doctor I am convinced of its safety and efficacy and would encourage everyone else to take up the opportunity to get the vaccine too when it is offered\"\n",
    "  \n",
    "# defining a params dict for the parameters to be sent to the API\n",
    "PARAMS = {'text':text}\n",
    "  \n",
    "# sending get request and saving the response as response object\n",
    "r = requests.get(url = URL, params = PARAMS)\n",
    "print(r.text)"
   ],
   "outputs": [
    {
     "output_type": "stream",
     "name": "stdout",
     "text": [
      "POSITIVE\n",
      "\n"
     ]
    }
   ],
   "metadata": {}
  },
  {
   "cell_type": "code",
   "execution_count": 7,
   "source": [
    "import asyncio\n",
    "import aiohttp"
   ],
   "outputs": [],
   "metadata": {}
  },
  {
   "cell_type": "code",
   "execution_count": 8,
   "source": [
    "outputs = []\n",
    "cnt = 0\n",
    "\n",
    "def preprocess(text):\n",
    "    for c in [';', '&', '#']: \n",
    "        text = text.replace(c, ':')\n",
    "    text = re.sub('<EMOJI[\\S]*>', '', text)\n",
    "    text = re.sub('<USER>', '', text)\n",
    "    return text\n",
    "\n",
    "async def get(session, text, id):\n",
    "    try:\n",
    "        async with session.get(url=URL, params = {'text':preprocess(text)}) as response:\n",
    "            resp = await response.read()\n",
    "            return [id, resp]\n",
    "    except Exception as e:\n",
    "        print(\"Unable to get url due to {}.\".format(e.__class__))\n",
    "\n",
    "\n",
    "async def main(data):\n",
    "    async with aiohttp.ClientSession() as session:\n",
    "        ret = await asyncio.gather(*[get(session, row['tweet'], row['id']) for idx, row in data.iterrows()])\n",
    "    print(\"Finalized all. Return is a list of len {} outputs.\".format(len(ret)))\n",
    "    # print(ret)\n",
    "    outputs.extend(ret)\n",
    "\n",
    "# l = len(tweets)\n",
    "loop = asyncio.get_event_loop()\n",
    "loop.run_until_complete(main(data))\n",
    "# fl = open('outputs', 'wb')\n",
    "# pickle.dump(outputs, fl)"
   ],
   "outputs": [
    {
     "output_type": "stream",
     "name": "stdout",
     "text": [
      "Finalized all. Return is a list of len 14348 outputs.\n"
     ]
    }
   ],
   "metadata": {}
  },
  {
   "cell_type": "code",
   "execution_count": 9,
   "source": [
    "fl = open('outputs', 'wb')\n",
    "pickle.dump(outputs, fl)"
   ],
   "outputs": [],
   "metadata": {}
  }
 ],
 "metadata": {
  "kernelspec": {
   "name": "python3",
   "display_name": "Python 3.6.9 64-bit ('torch_rl': venv)"
  },
  "language_info": {
   "codemirror_mode": {
    "name": "ipython",
    "version": 3
   },
   "file_extension": ".py",
   "mimetype": "text/x-python",
   "name": "python",
   "nbconvert_exporter": "python",
   "pygments_lexer": "ipython3",
   "version": "3.6.9"
  },
  "interpreter": {
   "hash": "f8337d322f02065436781250dc8881439cca8a58f1212dae4e4294dbbc4e4375"
  }
 },
 "nbformat": 4,
 "nbformat_minor": 4
}