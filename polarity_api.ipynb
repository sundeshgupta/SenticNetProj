{
 "cells": [
  {
   "cell_type": "code",
   "execution_count": 16,
   "metadata": {},
   "outputs": [],
   "source": [
    "\n",
    "# importing the requests library\n",
    "import requests\n",
    "import pandas as  pd\n",
    "import pickle\n",
    "import re"
   ]
  },
  {
   "cell_type": "code",
   "execution_count": 17,
   "metadata": {},
   "outputs": [],
   "source": [
    "data = pd.read_csv('./gold_raw.csv')\n",
    "\n",
    "# tweets = data['tweet'].tolist()"
   ]
  },
  {
   "cell_type": "code",
   "execution_count": 18,
   "metadata": {},
   "outputs": [
    {
     "data": {
      "text/plain": [
       "0    In great news my senior parents are getting th...\n",
       "Name: tweet, dtype: object"
      ]
     },
     "execution_count": 18,
     "metadata": {},
     "output_type": "execute_result"
    }
   ],
   "source": [
    "data[data['id'] == 1369812663623180288]['tweet']"
   ]
  },
  {
   "cell_type": "code",
   "execution_count": 19,
   "metadata": {},
   "outputs": [],
   "source": [
    "# api-endpoint\n",
    "ENDPOINT = \"https://sentic.net/api/en/\""
   ]
  },
  {
   "cell_type": "code",
   "execution_count": 20,
   "metadata": {},
   "outputs": [],
   "source": [
    "POLARITY_KEY = 'UBHiejvp0lXkG.py'"
   ]
  },
  {
   "cell_type": "code",
   "execution_count": 21,
   "metadata": {},
   "outputs": [],
   "source": [
    "URL = ENDPOINT + POLARITY_KEY"
   ]
  },
  {
   "cell_type": "code",
   "execution_count": 22,
   "metadata": {},
   "outputs": [
    {
     "name": "stdout",
     "output_type": "stream",
     "text": [
      "POSITIVE\n",
      "\n"
     ]
    }
   ],
   "source": [
    "# location given here\n",
    "# text = \"I've had my 2nd dose of Covid :Vaccine. I got myself vaccinated to protect my service , my colleagues and myself. As a doctor I am convinced of its safety and efficacy and would encourage everyone else to take up the opportunity to get the vaccine too when it is offered\"\n",
    "text = \"In great news my senior parents are getting the vaccine tomorrow. <EMOJI:red_heart> Whew, thank goodness. #vaccine\"\n",
    "# defining a params dict for the parameters to be sent to the API\n",
    "\n",
    "for c in [';', '&', '#']: \n",
    "    text = text.replace(c, ':')\n",
    "    text = re.sub('<EMOJI[\\S]*>', '', text)\n",
    "    text = re.sub('<USER>', '', text)\n",
    "    \n",
    "PARAMS = {'text':text}\n",
    "  \n",
    "# sending get request and saving the response as response object\n",
    "r = requests.get(url = URL, params = PARAMS)\n",
    "print(r.text)"
   ]
  },
  {
   "cell_type": "code",
   "execution_count": 23,
   "metadata": {},
   "outputs": [],
   "source": [
    "import asyncio\n",
    "import aiohttp"
   ]
  },
  {
   "cell_type": "code",
   "execution_count": 24,
   "metadata": {},
   "outputs": [
    {
     "name": "stdout",
     "output_type": "stream",
     "text": [
      "Finalized all. Return is a list of len 2000 outputs.\n"
     ]
    }
   ],
   "source": [
    "outputs = []\n",
    "cnt = 0\n",
    "\n",
    "def preprocess(text):\n",
    "    for c in [';', '&', '#']: \n",
    "        text = text.replace(c, ':')\n",
    "    text = re.sub('<EMOJI[\\S]*>', '', text)\n",
    "    text = re.sub('<USER>', '', text)\n",
    "    return text\n",
    "\n",
    "async def get(session, text, id):\n",
    "    try:\n",
    "        async with session.get(url=URL, params = {'text':preprocess(text)}) as response:\n",
    "            resp = await response.read()\n",
    "            return [id, resp]\n",
    "    except Exception as e:\n",
    "        print(\"Unable to get url due to {}.\".format(e.__class__))\n",
    "\n",
    "\n",
    "async def main(data):\n",
    "    async with aiohttp.ClientSession() as session:\n",
    "        ret = await asyncio.gather(*[get(session, row['tweet'], row['id']) for idx, row in data.iterrows()])\n",
    "    print(\"Finalized all. Return is a list of len {} outputs.\".format(len(ret)))\n",
    "    # print(ret)\n",
    "    outputs.extend(ret)\n",
    "\n",
    "# l = len(tweets)\n",
    "loop = asyncio.get_event_loop()\n",
    "loop.run_until_complete(main(data))\n",
    "# fl = open('outputs', 'wb')\n",
    "# pickle.dump(outputs, fl)"
   ]
  },
  {
   "cell_type": "code",
   "execution_count": 26,
   "metadata": {},
   "outputs": [],
   "source": [
    "# for i in range(len(outputs)):    \n",
    "#     outputs[i][1] = outputs[i][1].decode(\"utf-8\")[:-1]\n",
    "# # map outputs to pandas\n",
    "# for i in range(len(outputs)):\n",
    "#     data.loc[data['id'] == outputs[i][0], 'polarity_api_output'] = outputs[i][1]"
   ]
  }
 ],
 "metadata": {
  "interpreter": {
   "hash": "f8337d322f02065436781250dc8881439cca8a58f1212dae4e4294dbbc4e4375"
  },
  "kernelspec": {
   "display_name": "Python 3",
   "language": "python",
   "name": "python3"
  },
  "language_info": {
   "codemirror_mode": {
    "name": "ipython",
    "version": 3
   },
   "file_extension": ".py",
   "mimetype": "text/x-python",
   "name": "python",
   "nbconvert_exporter": "python",
   "pygments_lexer": "ipython3",
   "version": "3.6.9"
  }
 },
 "nbformat": 4,
 "nbformat_minor": 4
}
