{
 "cells": [
  {
   "cell_type": "code",
   "execution_count": 1,
   "metadata": {},
   "outputs": [],
   "source": [
    "import pandas as pd\n",
    "import numpy as np\n",
    "import matplotlib.pyplot as plt"
   ]
  },
  {
   "cell_type": "code",
   "execution_count": 2,
   "metadata": {},
   "outputs": [
    {
     "name": "stdout",
     "output_type": "stream",
     "text": [
      "       Unnamed: 0  Unnamed: 0.1  Unnamed: 0.1.1  Unnamed: 0.1.1.1  \\\n",
      "0               0         17171           17171             25100   \n",
      "1               1         17172           17172             25101   \n",
      "2               2         17173           17173             25102   \n",
      "3               3         17174           17174             25103   \n",
      "4               4         17175           17175             25104   \n",
      "...           ...           ...             ...               ...   \n",
      "14280       14343         31514           31514             43812   \n",
      "14281       14344         31515           31515             43813   \n",
      "14282       14345         31516           31516             43814   \n",
      "14283       14346         31517           31517             43815   \n",
      "14284       14347         31518           31518             43816   \n",
      "\n",
      "                        id      conversation_id           created_at  \\\n",
      "0      1376962511099035652  1376962511099035652  2021-03-30 23:50:20   \n",
      "1      1376961972885938181  1376961972885938181  2021-03-30 23:48:11   \n",
      "2      1376961945153196032  1376961945153196032  2021-03-30 23:48:05   \n",
      "3      1376960959932153863  1376960959932153863  2021-03-30 23:44:10   \n",
      "4      1376959717151449090  1376959717151449090  2021-03-30 23:39:13   \n",
      "...                    ...                  ...                  ...   \n",
      "14280  1344720754512945154  1344720754512945154  2021-01-01 00:33:06   \n",
      "14281  1344719980370268160  1344719980370268160  2021-01-01 00:30:01   \n",
      "14282  1344718465551241218  1344718465551241218  2021-01-01 00:24:00   \n",
      "14283  1344715298822352896  1344715298822352896  2021-01-01 00:11:25   \n",
      "14284  1344715020769214464  1344715020769214464  2021-01-01 00:10:19   \n",
      "\n",
      "             date      time  timezone  ...  source user_rt_id user_rt  \\\n",
      "0      2021-03-30  23:50:20       530  ...     NaN        NaN     NaN   \n",
      "1      2021-03-30  23:48:11       530  ...     NaN        NaN     NaN   \n",
      "2      2021-03-30  23:48:05       530  ...     NaN        NaN     NaN   \n",
      "3      2021-03-30  23:44:10       530  ...     NaN        NaN     NaN   \n",
      "4      2021-03-30  23:39:13       530  ...     NaN        NaN     NaN   \n",
      "...           ...       ...       ...  ...     ...        ...     ...   \n",
      "14280  2021-01-01  00:33:06       530  ...     NaN        NaN     NaN   \n",
      "14281  2021-01-01  00:30:01       530  ...     NaN        NaN     NaN   \n",
      "14282  2021-01-01  00:24:00       530  ...     NaN        NaN     NaN   \n",
      "14283  2021-01-01  00:11:25       530  ...     NaN        NaN     NaN   \n",
      "14284  2021-01-01  00:10:19       530  ...     NaN        NaN     NaN   \n",
      "\n",
      "      retweet_id reply_to retweet_date translate trans_src trans_dest  \\\n",
      "0            NaN       []          NaN       NaN       NaN        NaN   \n",
      "1            NaN       []          NaN       NaN       NaN        NaN   \n",
      "2            NaN       []          NaN       NaN       NaN        NaN   \n",
      "3            NaN       []          NaN       NaN       NaN        NaN   \n",
      "4            NaN       []          NaN       NaN       NaN        NaN   \n",
      "...          ...      ...          ...       ...       ...        ...   \n",
      "14280        NaN       []          NaN       NaN       NaN        NaN   \n",
      "14281        NaN       []          NaN       NaN       NaN        NaN   \n",
      "14282        NaN       []          NaN       NaN       NaN        NaN   \n",
      "14283        NaN       []          NaN       NaN       NaN        NaN   \n",
      "14284        NaN       []          NaN       NaN       NaN        NaN   \n",
      "\n",
      "       polarity_api_output  \n",
      "0                 POSITIVE  \n",
      "1                 NEGATIVE  \n",
      "2                 POSITIVE  \n",
      "3                 POSITIVE  \n",
      "4                 POSITIVE  \n",
      "...                    ...  \n",
      "14280             POSITIVE  \n",
      "14281             POSITIVE  \n",
      "14282             POSITIVE  \n",
      "14283             POSITIVE  \n",
      "14284             POSITIVE  \n",
      "\n",
      "[14285 rows x 41 columns]\n"
     ]
    }
   ],
   "source": [
    "data = pd.read_csv('silver_dataset_polarity_output.csv')\n",
    "print(data)"
   ]
  },
  {
   "cell_type": "code",
   "execution_count": 3,
   "metadata": {},
   "outputs": [],
   "source": [
    "id = data.loc[:,'id'].to_numpy()\n",
    "text = data.loc[:,'tweet'].to_numpy()\n",
    "polarity = data.loc[:,'polarity_api_output'].to_numpy()\n",
    "dt = data.loc[:,'date'].to_numpy()"
   ]
  },
  {
   "cell_type": "code",
   "execution_count": 4,
   "metadata": {},
   "outputs": [
    {
     "name": "stdout",
     "output_type": "stream",
     "text": [
      "2021-03-30 0.7578947368421053 0.24210526315789474\n",
      "2021-03-29 0.776595744680851 0.22340425531914893\n",
      "2021-03-28 0.6509433962264151 0.3490566037735849\n",
      "2021-03-27 0.765625 0.234375\n",
      "2021-03-26 0.7333333333333333 0.26666666666666666\n",
      "2021-03-25 0.7705882352941177 0.22941176470588234\n",
      "2021-03-24 0.717948717948718 0.28205128205128205\n",
      "2021-03-23 0.6858974358974359 0.3141025641025641\n",
      "2021-03-22 0.7243589743589743 0.27564102564102566\n",
      "2021-03-21 0.6309523809523809 0.36904761904761907\n",
      "2021-03-20 0.643312101910828 0.35668789808917195\n",
      "2021-03-19 0.7657142857142857 0.2342857142857143\n",
      "2021-03-18 0.7263681592039801 0.2736318407960199\n",
      "2021-03-17 0.7609756097560976 0.23902439024390243\n",
      "2021-03-16 0.7092511013215859 0.2907488986784141\n",
      "2021-03-15 0.7279411764705882 0.27205882352941174\n",
      "2021-03-14 0.8113207547169812 0.18867924528301888\n",
      "2021-03-13 0.6904761904761905 0.30952380952380953\n",
      "2021-03-12 0.7346938775510204 0.2653061224489796\n",
      "2021-03-11 0.6686390532544378 0.33136094674556216\n",
      "2021-03-10 0.7142857142857143 0.2857142857142857\n",
      "2021-03-09 0.7720588235294118 0.22794117647058823\n",
      "2021-03-08 0.7476635514018691 0.2523364485981308\n",
      "2021-03-07 0.7362637362637363 0.26373626373626374\n",
      "2021-03-06 0.7591240875912408 0.24087591240875914\n",
      "2021-03-05 0.7361963190184049 0.26380368098159507\n",
      "2021-03-04 0.6946107784431138 0.30538922155688625\n",
      "2021-03-03 0.7287234042553191 0.2712765957446808\n",
      "2021-03-02 0.7142857142857143 0.2857142857142857\n",
      "2021-03-01 0.7590361445783133 0.24096385542168675\n",
      "2021-02-28 0.7450980392156863 0.2549019607843137\n",
      "2021-02-27 0.7453416149068323 0.2546583850931677\n",
      "2021-02-26 0.7511520737327189 0.2488479262672811\n",
      "2021-02-25 0.8291139240506329 0.17088607594936708\n",
      "2021-02-24 0.7647058823529411 0.23529411764705882\n",
      "2021-02-23 0.7313432835820896 0.26865671641791045\n",
      "2021-02-22 0.732824427480916 0.26717557251908397\n",
      "2021-02-21 0.7247706422018348 0.27522935779816515\n",
      "2021-02-20 0.7043478260869566 0.2956521739130435\n",
      "2021-02-19 0.7453416149068323 0.2546583850931677\n",
      "2021-02-18 0.7638888888888888 0.2361111111111111\n",
      "2021-02-17 0.7391304347826086 0.2608695652173913\n",
      "2021-02-16 0.6645161290322581 0.33548387096774196\n",
      "2021-02-15 0.782608695652174 0.21739130434782608\n",
      "2021-02-14 0.7372881355932204 0.2627118644067797\n",
      "2021-02-13 0.6929133858267716 0.30708661417322836\n",
      "2021-02-12 0.7971014492753623 0.2028985507246377\n",
      "2021-02-11 0.7424242424242424 0.25757575757575757\n",
      "2021-02-10 0.6987179487179487 0.30128205128205127\n",
      "2021-02-09 0.7448275862068966 0.25517241379310346\n",
      "2021-02-08 0.7125 0.2875\n",
      "2021-02-07 0.6532258064516129 0.3467741935483871\n",
      "2021-02-06 0.7480916030534351 0.25190839694656486\n",
      "2021-02-05 0.6962025316455697 0.3037974683544304\n",
      "2021-02-04 0.6797752808988764 0.3202247191011236\n",
      "2021-02-03 0.6818181818181818 0.3181818181818182\n",
      "2021-02-02 0.6684210526315789 0.33157894736842103\n",
      "2021-02-01 0.6951219512195121 0.3048780487804878\n",
      "2021-01-31 0.7022900763358778 0.29770992366412213\n",
      "2021-01-30 0.7236180904522613 0.27638190954773867\n",
      "2021-01-29 0.7192307692307692 0.28076923076923077\n",
      "2021-01-28 0.7011494252873564 0.2988505747126437\n",
      "2021-01-27 0.7881773399014779 0.21182266009852216\n",
      "2021-01-26 0.7570621468926554 0.24293785310734464\n",
      "2021-01-25 0.738255033557047 0.26174496644295303\n",
      "2021-01-24 0.6491228070175439 0.3508771929824561\n",
      "2021-01-23 0.6514285714285715 0.3485714285714286\n",
      "2021-01-22 0.7385321100917431 0.26146788990825687\n",
      "2021-01-21 0.7 0.3\n",
      "2021-01-20 0.7222222222222222 0.2777777777777778\n",
      "2021-01-19 0.7207792207792207 0.2792207792207792\n",
      "2021-01-18 0.7248677248677249 0.2751322751322751\n",
      "2021-01-17 0.7345679012345679 0.2654320987654321\n",
      "2021-01-16 0.7142857142857143 0.2857142857142857\n",
      "2021-01-15 0.7454545454545455 0.2545454545454545\n",
      "2021-01-14 0.7591623036649214 0.24083769633507854\n",
      "2021-01-13 0.6853932584269663 0.3146067415730337\n",
      "2021-01-12 0.693069306930693 0.3069306930693069\n",
      "2021-01-11 0.7032258064516129 0.2967741935483871\n",
      "2021-01-10 0.7272727272727273 0.2727272727272727\n",
      "2021-01-09 0.7215189873417721 0.27848101265822783\n",
      "2021-01-08 0.6881188118811881 0.3118811881188119\n",
      "2021-01-07 0.7421875 0.2578125\n",
      "2021-01-06 0.7004830917874396 0.2995169082125604\n",
      "2021-01-05 0.7300884955752213 0.26991150442477874\n",
      "2021-01-04 0.717948717948718 0.28205128205128205\n",
      "2021-01-03 0.7017543859649122 0.2982456140350877\n",
      "2021-01-02 0.6861313868613139 0.31386861313868614\n",
      "2021-01-01 0.6551724137931034 0.3448275862068966\n"
     ]
    }
   ],
   "source": [
    "pos = dict()\n",
    "neg = dict()\n",
    "cnt = 0\n",
    "\n",
    "for x in dt:\n",
    "    if x not in pos:\n",
    "        pos[x] = 0\n",
    "    if x not in neg:\n",
    "        neg[x] = 0\n",
    "    # print(polarity[x].shape)\n",
    "    if polarity[cnt] == 'POSITIVE':\n",
    "        pos[x] += 1\n",
    "    if polarity[cnt] == 'NEGATIVE':\n",
    "        neg[x] += 1\n",
    "    cnt += 1\n",
    "\n",
    "for key, value in pos.items():\n",
    "    cnt = pos[key] + neg[key]\n",
    "    pos[key] = pos[key] / cnt\n",
    "    neg[key] = neg[key] / cnt\n",
    "    print(key, pos[key], neg[key])"
   ]
  },
  {
   "cell_type": "code",
   "execution_count": 5,
   "metadata": {},
   "outputs": [
    {
     "data": {
      "text/plain": [
       "([<matplotlib.axis.XTick at 0x7f65568de710>,\n",
       "  <matplotlib.axis.XTick at 0x7f65568de358>,\n",
       "  <matplotlib.axis.XTick at 0x7f65568c5be0>,\n",
       "  <matplotlib.axis.XTick at 0x7f6556835390>,\n",
       "  <matplotlib.axis.XTick at 0x7f6556835828>],\n",
       " [Text(0, 0, ''),\n",
       "  Text(0, 0, ''),\n",
       "  Text(0, 0, ''),\n",
       "  Text(0, 0, ''),\n",
       "  Text(0, 0, '')])"
      ]
     },
     "execution_count": 5,
     "metadata": {},
     "output_type": "execute_result"
    },
    {
     "data": {
      "image/png": "[encoded data removed]",
      "text/plain": [
       "<Figure size 432x288 with 1 Axes>"
      ]
     },
     "metadata": {
      "needs_background": "light"
     },
     "output_type": "display_data"
    }
   ],
   "source": [
    "plt.plot(list(pos.keys()), list(pos.values()), color = 'r')\n",
    "plt.plot(list(neg.keys()), list(neg.values()), color = 'b')\n",
    "plt.xticks(list(pos.keys())[::20])"
   ]
  },
  {
   "cell_type": "code",
   "execution_count": 23,
   "metadata": {},
   "outputs": [],
   "source": [
    "neg_idx = np.where(polarity=='NEGATIVE')[0]\n",
    "pos_idx = np.where(polarity=='POSITIVE')[0]"
   ]
  },
  {
   "cell_type": "code",
   "execution_count": 24,
   "metadata": {},
   "outputs": [],
   "source": [
    "np.random.shuffle(neg_idx)\n",
    "np.random.shuffle(pos_idx)"
   ]
  },
  {
   "cell_type": "code",
   "execution_count": 25,
   "metadata": {},
   "outputs": [],
   "source": [
    "neg_idx = neg_idx[:1000]\n",
    "pos_idx = pos_idx[:1000]"
   ]
  },
  {
   "cell_type": "code",
   "execution_count": 28,
   "metadata": {},
   "outputs": [],
   "source": [
    "idx = np.concatenate([neg_idx, pos_idx])"
   ]
  },
  {
   "cell_type": "code",
   "execution_count": 31,
   "metadata": {},
   "outputs": [
    {
     "name": "stdout",
     "output_type": "stream",
     "text": [
      "       Unnamed: 0  Unnamed: 0.1  Unnamed: 0.1.1  Unnamed: 0.1.1.1  \\\n",
      "2972         3152         20323           20323             29249   \n",
      "9039         9627         26798           26798             37553   \n",
      "11616       12347         29518           29518             41076   \n",
      "4105         4340         21511           21511             30765   \n",
      "4706         4988         22159           22159             31655   \n",
      "...           ...           ...             ...               ...   \n",
      "9229         9831         27002           27002             37782   \n",
      "11300       12014         29185           29185             40618   \n",
      "5540         5882         23053           23053             32807   \n",
      "12451       13225         30396           30396             42228   \n",
      "6004         6384         23555           23555             33443   \n",
      "\n",
      "                        id      conversation_id           created_at  \\\n",
      "2972   1369812663623180288  1369812663623180288  2021-03-11 06:19:23   \n",
      "9039   1354514776534220804  1354514776534220804  2021-01-28 01:11:03   \n",
      "11616  1349045265945264130  1349045265945264130  2021-01-12 22:57:10   \n",
      "4105   1366793773728980992  1366793773728980992  2021-03-02 22:23:24   \n",
      "4706   1365339417997623296  1365339417997623296  2021-02-26 22:04:18   \n",
      "...                    ...                  ...                  ...   \n",
      "9229   1354147167070425088  1354147167070425088  2021-01-27 00:50:18   \n",
      "11300  1349716511074766848  1349716511074766848  2021-01-14 19:24:27   \n",
      "5540   1363206131376676870  1363204427855896576  2021-02-21 00:47:23   \n",
      "12451  1347161906847641605  1347161906847641605  2021-01-07 18:13:22   \n",
      "6004   1362001632553299974  1362001632553299974  2021-02-17 17:01:08   \n",
      "\n",
      "             date      time  timezone  ...  source user_rt_id user_rt  \\\n",
      "2972   2021-03-11  06:19:23       530  ...     NaN        NaN     NaN   \n",
      "9039   2021-01-28  01:11:03       530  ...     NaN        NaN     NaN   \n",
      "11616  2021-01-12  22:57:10       530  ...     NaN        NaN     NaN   \n",
      "4105   2021-03-02  22:23:24       530  ...     NaN        NaN     NaN   \n",
      "4706   2021-02-26  22:04:18       530  ...     NaN        NaN     NaN   \n",
      "...           ...       ...       ...  ...     ...        ...     ...   \n",
      "9229   2021-01-27  00:50:18       530  ...     NaN        NaN     NaN   \n",
      "11300  2021-01-14  19:24:27       530  ...     NaN        NaN     NaN   \n",
      "5540   2021-02-21  00:47:23       530  ...     NaN        NaN     NaN   \n",
      "12451  2021-01-07  18:13:22       530  ...     NaN        NaN     NaN   \n",
      "6004   2021-02-17  17:01:08       530  ...     NaN        NaN     NaN   \n",
      "\n",
      "      retweet_id                                           reply_to  \\\n",
      "2972         NaN                                                 []   \n",
      "9039         NaN                                                 []   \n",
      "11616        NaN                                                 []   \n",
      "4105         NaN                                                 []   \n",
      "4706         NaN                                                 []   \n",
      "...          ...                                                ...   \n",
      "9229         NaN                                                 []   \n",
      "11300        NaN                                                 []   \n",
      "5540         NaN  [{'screen_name': 'fordnation', 'name': 'Doug F...   \n",
      "12451        NaN                                                 []   \n",
      "6004         NaN                                                 []   \n",
      "\n",
      "      retweet_date translate trans_src trans_dest  polarity_api_output  \n",
      "2972           NaN       NaN       NaN        NaN             NEGATIVE  \n",
      "9039           NaN       NaN       NaN        NaN             NEGATIVE  \n",
      "11616          NaN       NaN       NaN        NaN             NEGATIVE  \n",
      "4105           NaN       NaN       NaN        NaN             NEGATIVE  \n",
      "4706           NaN       NaN       NaN        NaN             NEGATIVE  \n",
      "...            ...       ...       ...        ...                  ...  \n",
      "9229           NaN       NaN       NaN        NaN             POSITIVE  \n",
      "11300          NaN       NaN       NaN        NaN             POSITIVE  \n",
      "5540           NaN       NaN       NaN        NaN             POSITIVE  \n",
      "12451          NaN       NaN       NaN        NaN             POSITIVE  \n",
      "6004           NaN       NaN       NaN        NaN             POSITIVE  \n",
      "\n",
      "[2000 rows x 41 columns]\n"
     ]
    }
   ],
   "source": [
    "gold_raw = data.loc[idx]\n",
    "print(gold_raw)"
   ]
  },
  {
   "cell_type": "code",
   "execution_count": 32,
   "metadata": {},
   "outputs": [],
   "source": [
    "gold_raw.to_csv('gold_raw.csv')"
   ]
  },
  {
   "cell_type": "code",
   "execution_count": 36,
   "metadata": {},
   "outputs": [],
   "source": [
    "tmp_data = pd.read_csv('gold_raw.csv')\n",
    "id = tmp_data.loc[:,['id','tweet']]\n",
    "# text = tmp_data.loc[:,'tweet']"
   ]
  },
  {
   "cell_type": "code",
   "execution_count": 38,
   "metadata": {},
   "outputs": [],
   "source": [
    "id.to_csv('sheet.csv')"
   ]
  }
 ],
 "metadata": {
  "interpreter": {
   "hash": "31f2aee4e71d21fbe5cf8b01ff0e069b9275f58929596ceb00d14d90e3e16cd6"
  },
  "kernelspec": {
   "display_name": "Python 3",
   "language": "python",
   "name": "python3"
  },
  "language_info": {
   "codemirror_mode": {
    "name": "ipython",
    "version": 3
   },
   "file_extension": ".py",
   "mimetype": "text/x-python",
   "name": "python",
   "nbconvert_exporter": "python",
   "pygments_lexer": "ipython3",
   "version": "3.6.9"
  }
 },
 "nbformat": 4,
 "nbformat_minor": 2
}
