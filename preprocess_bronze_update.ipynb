{
 "cells": [
  {
   "cell_type": "code",
   "execution_count": 20,
   "source": [
    "# !pip install pycld2\n",
    "# !pip3 install advertools\n",
    "# !pip install pycld2\n",
    "import pycld2 as cld2\n",
    "import re\n",
    "import preprocessor as p\n",
    "import pandas as pd"
   ],
   "outputs": [],
   "metadata": {}
  },
  {
   "cell_type": "code",
   "execution_count": 21,
   "source": [
    "p.set_options(p.OPT.EMOJI)"
   ],
   "outputs": [],
   "metadata": {}
  },
  {
   "cell_type": "code",
   "execution_count": 22,
   "source": [
    "data = pd.read_csv('./bronze_dataset_temp.csv')\n",
    "\n",
    "tweets = data['tweet'].tolist()\n",
    "\n",
    "print(len(tweets))"
   ],
   "outputs": [
    {
     "output_type": "stream",
     "name": "stdout",
     "text": [
      "48350\n"
     ]
    },
    {
     "output_type": "stream",
     "name": "stderr",
     "text": [
      "/home/sundesh/Documents/git/ITU-Challenge/torch_rl/lib/python3.6/site-packages/IPython/core/interactiveshell.py:3072: DtypeWarning: Columns (0,1,2,22) have mixed types.Specify dtype option on import or set low_memory=False.\n",
      "  interactivity=interactivity, compiler=compiler, result=result)\n"
     ]
    }
   ],
   "metadata": {}
  },
  {
   "cell_type": "code",
   "execution_count": 5,
   "source": [
    "from emo_unicode import UNICODE_EMOJI, EMOTICONS_EMO, UNICODE_EMO\n",
    "\n",
    "def convert_emojis(text):\n",
    "    for emot in UNICODE_EMO:\n",
    "        # print(ascii(emot))\n",
    "        text = re.sub(r'{}'.format(emot), \"<EMOJI:\" + \"_\".join(UNICODE_EMO[emot].replace(\",\",\"\").replace(\":\",\"\").split()) + \">\", text)\n",
    "    return text\n",
    "\n",
    "text = \"game is on 🔥\"\n",
    "# print(ascii(text))\n",
    "convert_emojis(text)"
   ],
   "outputs": [
    {
     "output_type": "execute_result",
     "data": {
      "text/plain": [
       "'game is on <EMOJI:fire>'"
      ]
     },
     "metadata": {},
     "execution_count": 5
    }
   ],
   "metadata": {}
  },
  {
   "cell_type": "code",
   "execution_count": 17,
   "source": [
    "cnt = 0\n",
    "\n",
    "def preprocess(tweet):\n",
    "    tweet = re.sub('http\\S+', '', tweet)\n",
    "    tweet = re.sub('@\\S+', '<USER>', tweet)\n",
    "    \n",
    "    tweet = convert_emojis(tweet)\n",
    "    \n",
    "    tweet = p.clean(tweet)\n",
    "    # if (cnt % 1000 == 0):\n",
    "        # print(cnt)\n",
    "    return tweet\n",
    "\n",
    "new_data = data['tweet'].apply(preprocess)"
   ],
   "outputs": [],
   "metadata": {}
  },
  {
   "cell_type": "code",
   "execution_count": 25,
   "source": [
    "data['tweet'] = new_data"
   ],
   "outputs": [],
   "metadata": {}
  },
  {
   "cell_type": "code",
   "execution_count": 28,
   "source": [
    "data.to_csv('./bronze_dataset.csv')"
   ],
   "outputs": [],
   "metadata": {}
  }
 ],
 "metadata": {
  "kernelspec": {
   "name": "python3",
   "display_name": "Python 3.6.9 64-bit ('torch_rl': venv)"
  },
  "language_info": {
   "codemirror_mode": {
    "name": "ipython",
    "version": 3
   },
   "file_extension": ".py",
   "mimetype": "text/x-python",
   "name": "python",
   "nbconvert_exporter": "python",
   "pygments_lexer": "ipython3",
   "version": "3.6.9"
  },
  "interpreter": {
   "hash": "f8337d322f02065436781250dc8881439cca8a58f1212dae4e4294dbbc4e4375"
  }
 },
 "nbformat": 4,
 "nbformat_minor": 4
}