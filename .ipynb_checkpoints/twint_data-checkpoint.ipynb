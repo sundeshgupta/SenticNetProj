{
 "cells": [
  {
   "cell_type": "code",
   "execution_count": 1,
   "metadata": {},
   "outputs": [],
   "source": [
    "import pandas as pd\n",
    "import matplotlib.pyplot as plt\n",
    "import numpy as np\n",
    "import datetime "
   ]
  },
  {
   "cell_type": "code",
   "execution_count": 10,
   "metadata": {},
   "outputs": [],
   "source": [
    "pd.set_option('display.max_colwidth', None)\n",
    "pd.set_option('display.max_rows', 1000) "
   ]
  },
  {
   "cell_type": "code",
   "execution_count": 2,
   "metadata": {},
   "outputs": [],
   "source": [
    "data = pd.read_csv('./twint/tweets_new_with_more_than_week.csv')"
   ]
  },
  {
   "cell_type": "code",
   "execution_count": 79,
   "metadata": {},
   "outputs": [],
   "source": [
    "data_location = pd.read_csv('./twint/tweets_new_with_more_than_week_location.csv')"
   ]
  },
  {
   "cell_type": "code",
   "execution_count": 3,
   "metadata": {},
   "outputs": [
    {
     "data": {
      "text/html": [
       "<div>\n",
       "<style scoped>\n",
       "    .dataframe tbody tr th:only-of-type {\n",
       "        vertical-align: middle;\n",
       "    }\n",
       "\n",
       "    .dataframe tbody tr th {\n",
       "        vertical-align: top;\n",
       "    }\n",
       "\n",
       "    .dataframe thead th {\n",
       "        text-align: right;\n",
       "    }\n",
       "</style>\n",
       "<table border=\"1\" class=\"dataframe\">\n",
       "  <thead>\n",
       "    <tr style=\"text-align: right;\">\n",
       "      <th></th>\n",
       "      <th>id</th>\n",
       "      <th>conversation_id</th>\n",
       "      <th>created_at</th>\n",
       "      <th>date</th>\n",
       "      <th>time</th>\n",
       "      <th>timezone</th>\n",
       "      <th>user_id</th>\n",
       "      <th>username</th>\n",
       "      <th>name</th>\n",
       "      <th>place</th>\n",
       "      <th>...</th>\n",
       "      <th>geo</th>\n",
       "      <th>source</th>\n",
       "      <th>user_rt_id</th>\n",
       "      <th>user_rt</th>\n",
       "      <th>retweet_id</th>\n",
       "      <th>reply_to</th>\n",
       "      <th>retweet_date</th>\n",
       "      <th>translate</th>\n",
       "      <th>trans_src</th>\n",
       "      <th>trans_dest</th>\n",
       "    </tr>\n",
       "  </thead>\n",
       "  <tbody>\n",
       "    <tr>\n",
       "      <th>0</th>\n",
       "      <td>1435914080330547202</td>\n",
       "      <td>1435914080330547202</td>\n",
       "      <td>2021-09-09 16:02:49 IST</td>\n",
       "      <td>2021-09-09</td>\n",
       "      <td>16:02:49</td>\n",
       "      <td>530</td>\n",
       "      <td>156210222</td>\n",
       "      <td>neelimaesai</td>\n",
       "      <td>neelima esai</td>\n",
       "      <td>NaN</td>\n",
       "      <td>...</td>\n",
       "      <td>NaN</td>\n",
       "      <td>NaN</td>\n",
       "      <td>NaN</td>\n",
       "      <td>NaN</td>\n",
       "      <td>NaN</td>\n",
       "      <td>[]</td>\n",
       "      <td>NaN</td>\n",
       "      <td>NaN</td>\n",
       "      <td>NaN</td>\n",
       "      <td>NaN</td>\n",
       "    </tr>\n",
       "    <tr>\n",
       "      <th>1</th>\n",
       "      <td>1435900870307291138</td>\n",
       "      <td>1435900870307291138</td>\n",
       "      <td>2021-09-09 15:10:19 IST</td>\n",
       "      <td>2021-09-09</td>\n",
       "      <td>15:10:19</td>\n",
       "      <td>530</td>\n",
       "      <td>569970630</td>\n",
       "      <td>abirballan</td>\n",
       "      <td>Abir Ballan</td>\n",
       "      <td>NaN</td>\n",
       "      <td>...</td>\n",
       "      <td>NaN</td>\n",
       "      <td>NaN</td>\n",
       "      <td>NaN</td>\n",
       "      <td>NaN</td>\n",
       "      <td>NaN</td>\n",
       "      <td>[]</td>\n",
       "      <td>NaN</td>\n",
       "      <td>NaN</td>\n",
       "      <td>NaN</td>\n",
       "      <td>NaN</td>\n",
       "    </tr>\n",
       "    <tr>\n",
       "      <th>2</th>\n",
       "      <td>1435897910584127491</td>\n",
       "      <td>1435897910584127491</td>\n",
       "      <td>2021-09-09 14:58:34 IST</td>\n",
       "      <td>2021-09-09</td>\n",
       "      <td>14:58:34</td>\n",
       "      <td>530</td>\n",
       "      <td>436429668</td>\n",
       "      <td>nikkeiasia</td>\n",
       "      <td>Nikkei Asia</td>\n",
       "      <td>NaN</td>\n",
       "      <td>...</td>\n",
       "      <td>NaN</td>\n",
       "      <td>NaN</td>\n",
       "      <td>NaN</td>\n",
       "      <td>NaN</td>\n",
       "      <td>NaN</td>\n",
       "      <td>[]</td>\n",
       "      <td>NaN</td>\n",
       "      <td>NaN</td>\n",
       "      <td>NaN</td>\n",
       "      <td>NaN</td>\n",
       "    </tr>\n",
       "    <tr>\n",
       "      <th>3</th>\n",
       "      <td>1435887588464865281</td>\n",
       "      <td>1435887588464865281</td>\n",
       "      <td>2021-09-09 14:17:33 IST</td>\n",
       "      <td>2021-09-09</td>\n",
       "      <td>14:17:33</td>\n",
       "      <td>530</td>\n",
       "      <td>25088746</td>\n",
       "      <td>sabcnews</td>\n",
       "      <td>SABC News</td>\n",
       "      <td>NaN</td>\n",
       "      <td>...</td>\n",
       "      <td>NaN</td>\n",
       "      <td>NaN</td>\n",
       "      <td>NaN</td>\n",
       "      <td>NaN</td>\n",
       "      <td>NaN</td>\n",
       "      <td>[]</td>\n",
       "      <td>NaN</td>\n",
       "      <td>NaN</td>\n",
       "      <td>NaN</td>\n",
       "      <td>NaN</td>\n",
       "    </tr>\n",
       "    <tr>\n",
       "      <th>4</th>\n",
       "      <td>1435876683802939393</td>\n",
       "      <td>1435876683802939393</td>\n",
       "      <td>2021-09-09 13:34:13 IST</td>\n",
       "      <td>2021-09-09</td>\n",
       "      <td>13:34:13</td>\n",
       "      <td>530</td>\n",
       "      <td>587955457</td>\n",
       "      <td>shen_shiwei</td>\n",
       "      <td>Shen Shiwei沈诗伟</td>\n",
       "      <td>NaN</td>\n",
       "      <td>...</td>\n",
       "      <td>NaN</td>\n",
       "      <td>NaN</td>\n",
       "      <td>NaN</td>\n",
       "      <td>NaN</td>\n",
       "      <td>NaN</td>\n",
       "      <td>[]</td>\n",
       "      <td>NaN</td>\n",
       "      <td>NaN</td>\n",
       "      <td>NaN</td>\n",
       "      <td>NaN</td>\n",
       "    </tr>\n",
       "    <tr>\n",
       "      <th>...</th>\n",
       "      <td>...</td>\n",
       "      <td>...</td>\n",
       "      <td>...</td>\n",
       "      <td>...</td>\n",
       "      <td>...</td>\n",
       "      <td>...</td>\n",
       "      <td>...</td>\n",
       "      <td>...</td>\n",
       "      <td>...</td>\n",
       "      <td>...</td>\n",
       "      <td>...</td>\n",
       "      <td>...</td>\n",
       "      <td>...</td>\n",
       "      <td>...</td>\n",
       "      <td>...</td>\n",
       "      <td>...</td>\n",
       "      <td>...</td>\n",
       "      <td>...</td>\n",
       "      <td>...</td>\n",
       "      <td>...</td>\n",
       "      <td>...</td>\n",
       "    </tr>\n",
       "    <tr>\n",
       "      <th>10025</th>\n",
       "      <td>1403557751356157964</td>\n",
       "      <td>1403557751356157964</td>\n",
       "      <td>2021-06-12 09:10:19 IST</td>\n",
       "      <td>2021-06-12</td>\n",
       "      <td>09:10:19</td>\n",
       "      <td>530</td>\n",
       "      <td>828915342214836225</td>\n",
       "      <td>drswatishow</td>\n",
       "      <td>Dr. Swati Maheshwari</td>\n",
       "      <td>NaN</td>\n",
       "      <td>...</td>\n",
       "      <td>NaN</td>\n",
       "      <td>NaN</td>\n",
       "      <td>NaN</td>\n",
       "      <td>NaN</td>\n",
       "      <td>NaN</td>\n",
       "      <td>[]</td>\n",
       "      <td>NaN</td>\n",
       "      <td>NaN</td>\n",
       "      <td>NaN</td>\n",
       "      <td>NaN</td>\n",
       "    </tr>\n",
       "    <tr>\n",
       "      <th>10026</th>\n",
       "      <td>1403554697206665232</td>\n",
       "      <td>1403554697206665232</td>\n",
       "      <td>2021-06-12 08:58:11 IST</td>\n",
       "      <td>2021-06-12</td>\n",
       "      <td>08:58:11</td>\n",
       "      <td>530</td>\n",
       "      <td>109930762</td>\n",
       "      <td>lambaalka</td>\n",
       "      <td>Alka Lamba</td>\n",
       "      <td>NaN</td>\n",
       "      <td>...</td>\n",
       "      <td>NaN</td>\n",
       "      <td>NaN</td>\n",
       "      <td>NaN</td>\n",
       "      <td>NaN</td>\n",
       "      <td>NaN</td>\n",
       "      <td>[]</td>\n",
       "      <td>NaN</td>\n",
       "      <td>NaN</td>\n",
       "      <td>NaN</td>\n",
       "      <td>NaN</td>\n",
       "    </tr>\n",
       "    <tr>\n",
       "      <th>10027</th>\n",
       "      <td>1403553713436823554</td>\n",
       "      <td>1403553713436823554</td>\n",
       "      <td>2021-06-12 08:54:16 IST</td>\n",
       "      <td>2021-06-12</td>\n",
       "      <td>08:54:16</td>\n",
       "      <td>530</td>\n",
       "      <td>49616273</td>\n",
       "      <td>globaltimesnews</td>\n",
       "      <td>Global Times</td>\n",
       "      <td>NaN</td>\n",
       "      <td>...</td>\n",
       "      <td>NaN</td>\n",
       "      <td>NaN</td>\n",
       "      <td>NaN</td>\n",
       "      <td>NaN</td>\n",
       "      <td>NaN</td>\n",
       "      <td>[]</td>\n",
       "      <td>NaN</td>\n",
       "      <td>NaN</td>\n",
       "      <td>NaN</td>\n",
       "      <td>NaN</td>\n",
       "    </tr>\n",
       "    <tr>\n",
       "      <th>10028</th>\n",
       "      <td>1403553101651623936</td>\n",
       "      <td>1403553101651623936</td>\n",
       "      <td>2021-06-12 08:51:50 IST</td>\n",
       "      <td>2021-06-12</td>\n",
       "      <td>08:51:50</td>\n",
       "      <td>530</td>\n",
       "      <td>1039759933728645120</td>\n",
       "      <td>tv9bharatvarsh</td>\n",
       "      <td>TV9 Bharatvarsh</td>\n",
       "      <td>NaN</td>\n",
       "      <td>...</td>\n",
       "      <td>NaN</td>\n",
       "      <td>NaN</td>\n",
       "      <td>NaN</td>\n",
       "      <td>NaN</td>\n",
       "      <td>NaN</td>\n",
       "      <td>[]</td>\n",
       "      <td>NaN</td>\n",
       "      <td>NaN</td>\n",
       "      <td>NaN</td>\n",
       "      <td>NaN</td>\n",
       "    </tr>\n",
       "    <tr>\n",
       "      <th>10029</th>\n",
       "      <td>1403552230507122688</td>\n",
       "      <td>1403552230507122688</td>\n",
       "      <td>2021-06-12 08:48:23 IST</td>\n",
       "      <td>2021-06-12</td>\n",
       "      <td>08:48:23</td>\n",
       "      <td>530</td>\n",
       "      <td>82556709</td>\n",
       "      <td>artyshruti</td>\n",
       "      <td>shruti</td>\n",
       "      <td>NaN</td>\n",
       "      <td>...</td>\n",
       "      <td>NaN</td>\n",
       "      <td>NaN</td>\n",
       "      <td>NaN</td>\n",
       "      <td>NaN</td>\n",
       "      <td>NaN</td>\n",
       "      <td>[]</td>\n",
       "      <td>NaN</td>\n",
       "      <td>NaN</td>\n",
       "      <td>NaN</td>\n",
       "      <td>NaN</td>\n",
       "    </tr>\n",
       "  </tbody>\n",
       "</table>\n",
       "<p>10030 rows × 36 columns</p>\n",
       "</div>"
      ],
      "text/plain": [
       "                        id      conversation_id               created_at  \\\n",
       "0      1435914080330547202  1435914080330547202  2021-09-09 16:02:49 IST   \n",
       "1      1435900870307291138  1435900870307291138  2021-09-09 15:10:19 IST   \n",
       "2      1435897910584127491  1435897910584127491  2021-09-09 14:58:34 IST   \n",
       "3      1435887588464865281  1435887588464865281  2021-09-09 14:17:33 IST   \n",
       "4      1435876683802939393  1435876683802939393  2021-09-09 13:34:13 IST   \n",
       "...                    ...                  ...                      ...   \n",
       "10025  1403557751356157964  1403557751356157964  2021-06-12 09:10:19 IST   \n",
       "10026  1403554697206665232  1403554697206665232  2021-06-12 08:58:11 IST   \n",
       "10027  1403553713436823554  1403553713436823554  2021-06-12 08:54:16 IST   \n",
       "10028  1403553101651623936  1403553101651623936  2021-06-12 08:51:50 IST   \n",
       "10029  1403552230507122688  1403552230507122688  2021-06-12 08:48:23 IST   \n",
       "\n",
       "             date      time  timezone              user_id         username  \\\n",
       "0      2021-09-09  16:02:49       530            156210222      neelimaesai   \n",
       "1      2021-09-09  15:10:19       530            569970630       abirballan   \n",
       "2      2021-09-09  14:58:34       530            436429668       nikkeiasia   \n",
       "3      2021-09-09  14:17:33       530             25088746         sabcnews   \n",
       "4      2021-09-09  13:34:13       530            587955457      shen_shiwei   \n",
       "...           ...       ...       ...                  ...              ...   \n",
       "10025  2021-06-12  09:10:19       530   828915342214836225      drswatishow   \n",
       "10026  2021-06-12  08:58:11       530            109930762        lambaalka   \n",
       "10027  2021-06-12  08:54:16       530             49616273  globaltimesnews   \n",
       "10028  2021-06-12  08:51:50       530  1039759933728645120   tv9bharatvarsh   \n",
       "10029  2021-06-12  08:48:23       530             82556709       artyshruti   \n",
       "\n",
       "                       name place  ... geo source user_rt_id user_rt  \\\n",
       "0              neelima esai   NaN  ... NaN    NaN        NaN     NaN   \n",
       "1               Abir Ballan   NaN  ... NaN    NaN        NaN     NaN   \n",
       "2               Nikkei Asia   NaN  ... NaN    NaN        NaN     NaN   \n",
       "3                 SABC News   NaN  ... NaN    NaN        NaN     NaN   \n",
       "4            Shen Shiwei沈诗伟   NaN  ... NaN    NaN        NaN     NaN   \n",
       "...                     ...   ...  ...  ..    ...        ...     ...   \n",
       "10025  Dr. Swati Maheshwari   NaN  ... NaN    NaN        NaN     NaN   \n",
       "10026            Alka Lamba   NaN  ... NaN    NaN        NaN     NaN   \n",
       "10027          Global Times   NaN  ... NaN    NaN        NaN     NaN   \n",
       "10028       TV9 Bharatvarsh   NaN  ... NaN    NaN        NaN     NaN   \n",
       "10029                shruti   NaN  ... NaN    NaN        NaN     NaN   \n",
       "\n",
       "      retweet_id  reply_to  retweet_date  translate trans_src trans_dest  \n",
       "0            NaN        []           NaN        NaN       NaN        NaN  \n",
       "1            NaN        []           NaN        NaN       NaN        NaN  \n",
       "2            NaN        []           NaN        NaN       NaN        NaN  \n",
       "3            NaN        []           NaN        NaN       NaN        NaN  \n",
       "4            NaN        []           NaN        NaN       NaN        NaN  \n",
       "...          ...       ...           ...        ...       ...        ...  \n",
       "10025        NaN        []           NaN        NaN       NaN        NaN  \n",
       "10026        NaN        []           NaN        NaN       NaN        NaN  \n",
       "10027        NaN        []           NaN        NaN       NaN        NaN  \n",
       "10028        NaN        []           NaN        NaN       NaN        NaN  \n",
       "10029        NaN        []           NaN        NaN       NaN        NaN  \n",
       "\n",
       "[10030 rows x 36 columns]"
      ]
     },
     "execution_count": 3,
     "metadata": {},
     "output_type": "execute_result"
    }
   ],
   "source": [
    "data"
   ]
  },
  {
   "cell_type": "code",
   "execution_count": 4,
   "metadata": {},
   "outputs": [
    {
     "data": {
      "text/plain": [
       "Index(['id', 'conversation_id', 'created_at', 'date', 'time', 'timezone',\n",
       "       'user_id', 'username', 'name', 'place', 'tweet', 'language', 'mentions',\n",
       "       'urls', 'photos', 'replies_count', 'retweets_count', 'likes_count',\n",
       "       'hashtags', 'cashtags', 'link', 'retweet', 'quote_url', 'video',\n",
       "       'thumbnail', 'near', 'geo', 'source', 'user_rt_id', 'user_rt',\n",
       "       'retweet_id', 'reply_to', 'retweet_date', 'translate', 'trans_src',\n",
       "       'trans_dest'],\n",
       "      dtype='object')"
      ]
     },
     "execution_count": 4,
     "metadata": {},
     "output_type": "execute_result"
    }
   ],
   "source": [
    "data.columns"
   ]
  },
  {
   "cell_type": "code",
   "execution_count": 37,
   "metadata": {},
   "outputs": [],
   "source": [
    "import math\n",
    "import numpy as np"
   ]
  },
  {
   "cell_type": "code",
   "execution_count": 80,
   "metadata": {},
   "outputs": [
    {
     "data": {
      "text/plain": [
       "0     NaN\n",
       "1     NaN\n",
       "2     NaN\n",
       "3     NaN\n",
       "4     NaN\n",
       "       ..\n",
       "274   NaN\n",
       "275   NaN\n",
       "276   NaN\n",
       "277   NaN\n",
       "278   NaN\n",
       "Name: place, Length: 279, dtype: float64"
      ]
     },
     "execution_count": 80,
     "metadata": {},
     "output_type": "execute_result"
    }
   ],
   "source": [
    "data_location['place']"
   ]
  },
  {
   "cell_type": "code",
   "execution_count": 68,
   "metadata": {},
   "outputs": [
    {
     "data": {
      "text/html": [
       "<div>\n",
       "<style scoped>\n",
       "    .dataframe tbody tr th:only-of-type {\n",
       "        vertical-align: middle;\n",
       "    }\n",
       "\n",
       "    .dataframe tbody tr th {\n",
       "        vertical-align: top;\n",
       "    }\n",
       "\n",
       "    .dataframe thead th {\n",
       "        text-align: right;\n",
       "    }\n",
       "</style>\n",
       "<table border=\"1\" class=\"dataframe\">\n",
       "  <thead>\n",
       "    <tr style=\"text-align: right;\">\n",
       "      <th></th>\n",
       "      <th>id</th>\n",
       "      <th>conversation_id</th>\n",
       "      <th>created_at</th>\n",
       "      <th>date</th>\n",
       "      <th>time</th>\n",
       "      <th>timezone</th>\n",
       "      <th>user_id</th>\n",
       "      <th>username</th>\n",
       "      <th>name</th>\n",
       "      <th>place</th>\n",
       "      <th>...</th>\n",
       "      <th>geo</th>\n",
       "      <th>source</th>\n",
       "      <th>user_rt_id</th>\n",
       "      <th>user_rt</th>\n",
       "      <th>retweet_id</th>\n",
       "      <th>reply_to</th>\n",
       "      <th>retweet_date</th>\n",
       "      <th>translate</th>\n",
       "      <th>trans_src</th>\n",
       "      <th>trans_dest</th>\n",
       "    </tr>\n",
       "  </thead>\n",
       "  <tbody>\n",
       "  </tbody>\n",
       "</table>\n",
       "<p>0 rows × 36 columns</p>\n",
       "</div>"
      ],
      "text/plain": [
       "Empty DataFrame\n",
       "Columns: [id, conversation_id, created_at, date, time, timezone, user_id, username, name, place, tweet, language, mentions, urls, photos, replies_count, retweets_count, likes_count, hashtags, cashtags, link, retweet, quote_url, video, thumbnail, near, geo, source, user_rt_id, user_rt, retweet_id, reply_to, retweet_date, translate, trans_src, trans_dest]\n",
       "Index: []\n",
       "\n",
       "[0 rows x 36 columns]"
      ]
     },
     "execution_count": 68,
     "metadata": {},
     "output_type": "execute_result"
    }
   ],
   "source": [
    "data_location[np.isnan(data_location['geo']) == False]"
   ]
  },
  {
   "cell_type": "code",
   "execution_count": 30,
   "metadata": {},
   "outputs": [
    {
     "name": "stdout",
     "output_type": "stream",
     "text": [
      "(10018, 36)\n"
     ]
    },
    {
     "data": {
      "image/png": "[encoded data removed]",
      "text/plain": [
       "<Figure size 432x288 with 1 Axes>"
      ]
     },
     "metadata": {
      "needs_background": "light"
     },
     "output_type": "display_data"
    }
   ],
   "source": [
    "new_data = data[data['likes_count']>=10]\n",
    "print(new_data.shape)\n",
    "plt.scatter(np.arange(new_data.shape[0]), new_data['likes_count'].tolist())\n",
    "plt.show()"
   ]
  },
  {
   "cell_type": "code",
   "execution_count": 57,
   "metadata": {},
   "outputs": [
    {
     "name": "stdout",
     "output_type": "stream",
     "text": [
      "(9998, 36)\n"
     ]
    },
    {
     "data": {
      "image/png": "[encoded data removed]",
      "text/plain": [
       "<Figure size 432x288 with 1 Axes>"
      ]
     },
     "metadata": {
      "needs_background": "light"
     },
     "output_type": "display_data"
    }
   ],
   "source": [
    "new_data = data_popular[data_popular['likes_count']>=10]\n",
    "print(new_data.shape)\n",
    "plt.scatter(np.arange(new_data.shape[0]), new_data['likes_count'].tolist())\n",
    "plt.show()"
   ]
  },
  {
   "cell_type": "code",
   "execution_count": 31,
   "metadata": {},
   "outputs": [
    {
     "data": {
      "text/plain": [
       "0                                                                                                                                                                                                                                                                           #Awareness #Covid_19 #vaccine #pregnancy 🤰\n",
       "1                                                                                                           Old but worth repeating… @pfizer CEO: «I am 59 years old, in good health. For my type, it’s not recommended to get the #COVID19 #vaccine » If only the world follows his example!  https://t.co/RgD1vsvFgE\n",
       "2                                                                                                                                 As the COVID pandemic rages in Thailand, Chinese entrepreneurs are snapping up hotels, property and land at record-low prices.  https://t.co/lkgF1JwsqO #COVID #coronavirus #vaccine\n",
       "3                                                                                                    The United Nations Chief has slammed the inequity around COVID-19 #vaccine distribution globally and says he will use the upcoming #UN General Assembly to ring the alarm bell. #COVID19  https://t.co/isVfjdqIBS\n",
       "4        🇨🇳💉China’s first mRNA COVID-19 #vaccine production base to be put into use in Oct., with an estimated annual production of 200 million doses.  The mRNA jab ARcoVax is jointly developed by: The Academy of Military Medical Sciences Suzhou ABOGEN Yunnan Walvax Biotechnology Co,.  https://t.co/AOFIMtExTf\n",
       "                                                                                                                                                             ...                                                                                                                                                      \n",
       "10025                                                                                                                                                                                     When to take Vaccine after recovery from Covid @zeenews Bihar #vaccine #covid_19 #CoronaVaccination  https://t.co/1ATSm2pCkI\n",
       "10026                                        ग़लती वैक्सीन बनाने वाले की नहीं है ,उसने तो सही कीमत बताई थी , वो तो बस सत्ता को दी जाने वाली #दलाली जोड़ना भूल गया था ...  वरना जो लागत अभी जोड़ी जा रही है उसका ख्याल तो पहले भी रखा गया होगा.  #commission #vaccine #covaxine @BharatBiotech  https://t.co/Sw13F1IhKS\n",
       "10027            Argentina on Thursday approved the emergency use for China's one-dose #coronavirus #vaccine produced by CanSinoBIO, the second Chinese COVID-19 vaccine to get approved in the country after Sinopharm's inactivated one, Chinese Embassy in Argentine revealed on Saturday.  https://t.co/4gi08jN9Co\n",
       "10028                                                                                                               केंद्र सरकार ने कहा- ICMR और भारत बायोटेक की तरफ से बनाई गई कोवैक्सिन के तीसरे चरण के ट्रायल का डेटा अगले 7 से 8 दिनों में जारी किया जाएगा.  #Covaxin | #Vaccine | #ICMR   https://t.co/zjjStEcJNS\n",
       "10029                                    Twitter - A place where Comedians question #vaccine and think themselves as experts .. On the other hand qualified #doctors trying their best to urge people to vaccinate.  Strangely the comedian doesn’t get a rap from Twitter but bureaucrats get their account suspended\n",
       "Name: tweet, Length: 10018, dtype: object"
      ]
     },
     "execution_count": 31,
     "metadata": {},
     "output_type": "execute_result"
    }
   ],
   "source": [
    "new_data['tweet']"
   ]
  },
  {
   "cell_type": "code",
   "execution_count": 20,
   "metadata": {},
   "outputs": [
    {
     "data": {
      "text/plain": [
       "'2021-06-12 08:48:23 IST'"
      ]
     },
     "execution_count": 20,
     "metadata": {},
     "output_type": "execute_result"
    }
   ],
   "source": [
    "min(data['created_at'])"
   ]
  },
  {
   "cell_type": "code",
   "execution_count": 13,
   "metadata": {},
   "outputs": [],
   "source": [
    "text = data['tweet'].to_list()"
   ]
  },
  {
   "cell_type": "code",
   "execution_count": 14,
   "metadata": {},
   "outputs": [
    {
     "data": {
      "text/plain": [
       "10030"
      ]
     },
     "execution_count": 14,
     "metadata": {},
     "output_type": "execute_result"
    }
   ],
   "source": [
    "len(text)"
   ]
  },
  {
   "cell_type": "code",
   "execution_count": 19,
   "metadata": {},
   "outputs": [
    {
     "name": "stdout",
     "output_type": "stream",
     "text": [
      "12\n",
      "5\n"
     ]
    }
   ],
   "source": [
    "mn = 10000000\n",
    "cnt = 0\n",
    "for t in text:\n",
    "    mn = min(mn, len(t))\n",
    "    if (len(t) <=20): # and len(t) <= 250):\n",
    "        cnt += 1\n",
    "#     print(len(t))\n",
    "print(mn)\n",
    "print(cnt)"
   ]
  }
 ],
 "metadata": {
  "kernelspec": {
   "display_name": "venv",
   "language": "python",
   "name": "venv"
  },
  "language_info": {
   "codemirror_mode": {
    "name": "ipython",
    "version": 3
   },
   "file_extension": ".py",
   "mimetype": "text/x-python",
   "name": "python",
   "nbconvert_exporter": "python",
   "pygments_lexer": "ipython3",
   "version": "3.6.9"
  }
 },
 "nbformat": 4,
 "nbformat_minor": 4
}
