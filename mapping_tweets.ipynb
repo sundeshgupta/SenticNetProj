{
 "cells": [
  {
   "cell_type": "code",
   "execution_count": 20,
   "metadata": {},
   "outputs": [],
   "source": [
    "import pickle"
   ]
  },
  {
   "cell_type": "code",
   "execution_count": 21,
   "metadata": {},
   "outputs": [],
   "source": [
    "file = open('outputs', 'rb')\n",
    "output = pickle.load(file)"
   ]
  },
  {
   "cell_type": "code",
   "execution_count": 22,
   "metadata": {},
   "outputs": [],
   "source": [
    "for i in range(len(output)):    \n",
    "    output[i][1] = output[i][1].decode(\"utf-8\")[:-1]"
   ]
  },
  {
   "cell_type": "code",
   "execution_count": 23,
   "metadata": {},
   "outputs": [
    {
     "name": "stdout",
     "output_type": "stream",
     "text": [
      "[1376962511099035652, 'NEGATIVE']\n"
     ]
    }
   ],
   "source": [
    "print(output[0])"
   ]
  },
  {
   "cell_type": "code",
   "execution_count": 37,
   "metadata": {},
   "outputs": [],
   "source": [
    "import pandas as pd\n",
    "data = pd.read_csv('silver_dataset.csv')"
   ]
  },
  {
   "cell_type": "code",
   "execution_count": 48,
   "metadata": {},
   "outputs": [
    {
     "name": "stdout",
     "output_type": "stream",
     "text": [
      "   Unnamed: 0  Unnamed: 0.1  Unnamed: 0.1.1                   id  \\\n",
      "0       17171         17171           25100  1376962511099035652   \n",
      "\n",
      "       conversation_id           created_at        date      time  timezone  \\\n",
      "0  1376962511099035652  2021-03-30 23:50:20  2021-03-30  23:50:20       530   \n",
      "\n",
      "     user_id  ... geo source user_rt_id user_rt retweet_id reply_to  \\\n",
      "0  144367359  ... NaN    NaN        NaN     NaN        NaN       []   \n",
      "\n",
      "  retweet_date translate  trans_src  trans_dest  \n",
      "0          NaN       NaN        NaN         NaN  \n",
      "\n",
      "[1 rows x 39 columns]\n"
     ]
    }
   ],
   "source": [
    "for i in range(len(output)):\n",
    "    print(data[data['id'] == output[i][0]])\n",
    "    break"
   ]
  },
  {
   "cell_type": "code",
   "execution_count": 47,
   "metadata": {},
   "outputs": [
    {
     "data": {
      "text/plain": [
       "Index(['Unnamed: 0', 'Unnamed: 0.1', 'Unnamed: 0.1.1', 'id', 'conversation_id',\n",
       "       'created_at', 'date', 'time', 'timezone', 'user_id', 'username', 'name',\n",
       "       'place', 'tweet', 'language', 'mentions', 'urls', 'photos',\n",
       "       'replies_count', 'retweets_count', 'likes_count', 'hashtags',\n",
       "       'cashtags', 'link', 'retweet', 'quote_url', 'video', 'thumbnail',\n",
       "       'near', 'geo', 'source', 'user_rt_id', 'user_rt', 'retweet_id',\n",
       "       'reply_to', 'retweet_date', 'translate', 'trans_src', 'trans_dest'],\n",
       "      dtype='object')"
      ]
     },
     "execution_count": 47,
     "metadata": {},
     "output_type": "execute_result"
    }
   ],
   "source": [
    "# print(type(output[i][0]))\n",
    "data.columns"
   ]
  }
 ],
 "metadata": {
  "interpreter": {
   "hash": "767d51c1340bd893661ea55ea3124f6de3c7a262a8b4abca0554b478b1e2ff90"
  },
  "kernelspec": {
   "display_name": "Python 3.6.9 64-bit",
   "name": "python3"
  },
  "language_info": {
   "codemirror_mode": {
    "name": "ipython",
    "version": 3
   },
   "file_extension": ".py",
   "mimetype": "text/x-python",
   "name": "python",
   "nbconvert_exporter": "python",
   "pygments_lexer": "ipython3",
   "version": "3.6.9"
  },
  "orig_nbformat": 4
 },
 "nbformat": 4,
 "nbformat_minor": 2
}
