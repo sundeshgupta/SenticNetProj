{
 "cells": [
  {
   "cell_type": "code",
   "execution_count": 1,
   "metadata": {},
   "outputs": [],
   "source": [
    "# !pip install pycld2\n",
    "# !pip install tweet-preprocessor\n",
    "\n",
    "import pycld2 as cld2\n",
    "import re\n",
    "import preprocessor as p\n",
    "import pandas as pd"
   ]
  },
  {
   "cell_type": "code",
   "execution_count": 3,
   "metadata": {},
   "outputs": [
    {
     "name": "stdout",
     "output_type": "stream",
     "text": [
      "65069\n"
     ]
    }
   ],
   "source": [
    "data = pd.read_csv('./raw_dataset.csv')\n",
    "\n",
    "tweets = data['tweet'].tolist()\n",
    "\n",
    "print(len(tweets))"
   ]
  },
  {
   "cell_type": "code",
   "execution_count": 58,
   "metadata": {},
   "outputs": [
    {
     "name": "stdout",
     "output_type": "stream",
     "text": [
      "65069\n"
     ]
    }
   ],
   "source": [
    "\n",
    "print(len(tweets))\n",
    "text = set()\n",
    "\n",
    "def preprocess(tweet):\n",
    "\n",
    "    tweet = p.clean(tweet)\n",
    "    _, _, _, detected_language = cld2.detect(tweet,  returnVectors=True)\n",
    "\n",
    "    flag = 1\n",
    "    f = 1\n",
    "    for vector in detected_language:\n",
    "        if vector[3] != 'en':\n",
    "            flag = 0\n",
    "    \n",
    "    tweet = re.sub(\"\\s\\s+\", \" \", tweet)\n",
    "    \n",
    "    if flag == 1 and len(tweet.split(' ')) > 10 and tweet not in text:\n",
    "        text.add(tweet)\n",
    "        return True\n",
    "    \n",
    "    return False\n",
    "\n",
    "        \n",
    "new_data = data[data['tweet'].apply(preprocess) == True]"
   ]
  },
  {
   "cell_type": "code",
   "execution_count": 60,
   "metadata": {},
   "outputs": [],
   "source": [
    "new_data.to_csv('./bronze_dataset.csv')"
   ]
  }
 ],
 "metadata": {
  "kernelspec": {
   "display_name": "Python 3",
   "language": "python",
   "name": "python3"
  },
  "language_info": {
   "codemirror_mode": {
    "name": "ipython",
    "version": 3
   },
   "file_extension": ".py",
   "mimetype": "text/x-python",
   "name": "python",
   "nbconvert_exporter": "python",
   "pygments_lexer": "ipython3",
   "version": "3.6.9"
  }
 },
 "nbformat": 4,
 "nbformat_minor": 4
}
