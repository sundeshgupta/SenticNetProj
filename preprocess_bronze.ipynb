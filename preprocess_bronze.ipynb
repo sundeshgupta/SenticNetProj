{
 "cells": [
  {
   "cell_type": "code",
   "execution_count": 1,
   "source": [
    "# !pip install pycld2\n",
    "# !pip install tweet-preprocessor\n",
    "\n",
    "import pycld2 as cld2\n",
    "import re\n",
    "import preprocessor as p\n",
    "import pandas as pd"
   ],
   "outputs": [],
   "metadata": {}
  },
  {
   "cell_type": "code",
   "execution_count": 2,
   "source": [
    "data = pd.read_csv('./raw_dataset.csv')\n",
    "\n",
    "tweets = data['tweet'].tolist()\n",
    "\n",
    "print(len(tweets))"
   ],
   "outputs": [
    {
     "output_type": "stream",
     "name": "stdout",
     "text": [
      "65069\n"
     ]
    }
   ],
   "metadata": {}
  },
  {
   "cell_type": "code",
   "execution_count": 3,
   "source": [
    "\n",
    "print(len(tweets))\n",
    "text = set()\n",
    "\n",
    "def preprocess(tweet):\n",
    "\n",
    "    tweet = p.clean(tweet)\n",
    "    _, _, _, detected_language = cld2.detect(tweet,  returnVectors=True)\n",
    "\n",
    "    flag = 1\n",
    "    f = 1\n",
    "    for vector in detected_language:\n",
    "        if vector[3] != 'en':\n",
    "            flag = 0\n",
    "    \n",
    "    tweet = re.sub(\"\\s\\s+\", \" \", tweet)\n",
    "    \n",
    "    if flag == 1 and len(tweet.split(' ')) > 10 and tweet not in text:\n",
    "        text.add(tweet)\n",
    "        return True\n",
    "    \n",
    "    return False\n",
    "\n",
    "        \n",
    "new_data = data[data['tweet'].apply(preprocess) == True]"
   ],
   "outputs": [
    {
     "output_type": "stream",
     "name": "stdout",
     "text": [
      "65069\n"
     ]
    }
   ],
   "metadata": {}
  },
  {
   "cell_type": "code",
   "execution_count": 4,
   "source": [
    "new_data.to_csv('./bronze_dataset.csv')"
   ],
   "outputs": [],
   "metadata": {}
  }
 ],
 "metadata": {
  "kernelspec": {
   "name": "python3",
   "display_name": "Python 3.6.9 64-bit ('torch_rl': venv)"
  },
  "language_info": {
   "codemirror_mode": {
    "name": "ipython",
    "version": 3
   },
   "file_extension": ".py",
   "mimetype": "text/x-python",
   "name": "python",
   "nbconvert_exporter": "python",
   "pygments_lexer": "ipython3",
   "version": "3.6.9"
  },
  "interpreter": {
   "hash": "f8337d322f02065436781250dc8881439cca8a58f1212dae4e4294dbbc4e4375"
  }
 },
 "nbformat": 4,
 "nbformat_minor": 4
}