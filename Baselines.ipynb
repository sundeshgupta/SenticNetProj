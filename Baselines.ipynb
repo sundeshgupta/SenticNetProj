{
 "cells": [
  {
   "cell_type": "code",
   "execution_count": 1,
   "id": "538d8fdf",
   "metadata": {},
   "outputs": [],
   "source": [
    "import nltk\n",
    "import pandas as pd\n",
    "from sklearn.metrics import classification_report\n",
    "import numpy as np"
   ]
  },
  {
   "cell_type": "code",
   "execution_count": 2,
   "id": "881bee1d",
   "metadata": {},
   "outputs": [
    {
     "name": "stdout",
     "output_type": "stream",
     "text": [
      "2021-12-10 21:19:40,083 loading file /home/mtnshh/.flair/models/sentiment-en-mix-distillbert_4.pt\n"
     ]
    }
   ],
   "source": [
    "import flair\n",
    "flair_sentiment = flair.models.TextClassifier.load('en-sentiment')"
   ]
  },
  {
   "cell_type": "code",
   "execution_count": 3,
   "id": "2fc75300",
   "metadata": {},
   "outputs": [
    {
     "name": "stderr",
     "output_type": "stream",
     "text": [
      "[nltk_data] Downloading package vader_lexicon to\n",
      "[nltk_data]     /home/mtnshh/nltk_data...\n",
      "[nltk_data]   Package vader_lexicon is already up-to-date!\n"
     ]
    }
   ],
   "source": [
    "import nltk\n",
    "from nltk.sentiment.vader import SentimentIntensityAnalyzer\n",
    "\n",
    "sid = SentimentIntensityAnalyzer()"
   ]
  },
  {
   "cell_type": "code",
   "execution_count": 4,
   "id": "3218b685",
   "metadata": {},
   "outputs": [
    {
     "data": {
      "text/plain": [
       "{'neg': 0.133, 'neu': 0.727, 'pos': 0.139, 'compound': 0.0258}"
      ]
     },
     "execution_count": 4,
     "metadata": {},
     "output_type": "execute_result"
    }
   ],
   "source": [
    "sid.polarity_scores(\"In case you missed our previous email, can you please take a look at it?\")"
   ]
  },
  {
   "cell_type": "code",
   "execution_count": 5,
   "id": "054d04b1",
   "metadata": {},
   "outputs": [],
   "source": [
    "from textblob import TextBlob"
   ]
  },
  {
   "cell_type": "code",
   "execution_count": 6,
   "id": "bd2bd8af",
   "metadata": {},
   "outputs": [],
   "source": [
    "df = pd.read_csv('./gold_dataset.csv')"
   ]
  },
  {
   "cell_type": "code",
   "execution_count": 7,
   "id": "40537152",
   "metadata": {},
   "outputs": [],
   "source": [
    "df['scores'] = df['tweet'].apply(lambda review: sid.polarity_scores(review))"
   ]
  },
  {
   "cell_type": "code",
   "execution_count": 8,
   "id": "cf96170b",
   "metadata": {},
   "outputs": [],
   "source": [
    "df['compound']  = df['scores'].apply(lambda score_dict: score_dict['compound'])"
   ]
  },
  {
   "cell_type": "code",
   "execution_count": 9,
   "id": "bd9774bc",
   "metadata": {},
   "outputs": [],
   "source": [
    "df['comp_score'] = df['compound'].apply(lambda c: 'POSITIVE' if c >=0 else 'NEGATIVE')"
   ]
  },
  {
   "cell_type": "code",
   "execution_count": 10,
   "id": "334174e6",
   "metadata": {},
   "outputs": [],
   "source": [
    "df['scores_text_blob'] = df['tweet'].apply(lambda review: TextBlob(review).sentiment.polarity)\n",
    "df['comp_score_text_blob'] = df['scores_text_blob'].apply(lambda c: 'POSITIVE' if c >=0 else 'NEGATIVE')"
   ]
  },
  {
   "cell_type": "code",
   "execution_count": 11,
   "id": "e5e9156d",
   "metadata": {},
   "outputs": [],
   "source": [
    "def scores_flair(text):\n",
    "    s = flair.data.Sentence(text)\n",
    "    flair_sentiment.predict(s)\n",
    "    total_sentiment = s.labels\n",
    "    return str(total_sentiment[0]).split(' ')[0]\n",
    "\n",
    "df['scores_flair'] = df['tweet'].apply(scores_flair)"
   ]
  },
  {
   "cell_type": "code",
   "execution_count": 12,
   "id": "aab96b42",
   "metadata": {},
   "outputs": [
    {
     "name": "stdout",
     "output_type": "stream",
     "text": [
      "[NEGATIVE (0.9999)]\n",
      "False\n"
     ]
    },
    {
     "data": {
      "text/plain": [
       "flair.data.Label"
      ]
     },
     "execution_count": 12,
     "metadata": {},
     "output_type": "execute_result"
    }
   ],
   "source": [
    "s = flair.data.Sentence(['This is bad.', 'Hello'])\n",
    "flair_sentiment.predict(s)\n",
    "total_sentiment = s.labels\n",
    "print(total_sentiment)\n",
    "print(str(total_sentiment[0]).split(' ')[0]=='POSITIVE')\n",
    "type(total_sentiment[0])"
   ]
  },
  {
   "cell_type": "code",
   "execution_count": 13,
   "id": "1c55cf82",
   "metadata": {},
   "outputs": [
    {
     "data": {
      "text/html": [
       "<div>\n",
       "<style scoped>\n",
       "    .dataframe tbody tr th:only-of-type {\n",
       "        vertical-align: middle;\n",
       "    }\n",
       "\n",
       "    .dataframe tbody tr th {\n",
       "        vertical-align: top;\n",
       "    }\n",
       "\n",
       "    .dataframe thead th {\n",
       "        text-align: right;\n",
       "    }\n",
       "</style>\n",
       "<table border=\"1\" class=\"dataframe\">\n",
       "  <thead>\n",
       "    <tr style=\"text-align: right;\">\n",
       "      <th></th>\n",
       "      <th>id</th>\n",
       "      <th>created_at</th>\n",
       "      <th>tweet</th>\n",
       "      <th>sum</th>\n",
       "      <th>true_value</th>\n",
       "      <th>polarity_api_output</th>\n",
       "      <th>is_same</th>\n",
       "      <th>concept_api_output</th>\n",
       "      <th>conversation_id</th>\n",
       "      <th>date</th>\n",
       "      <th>...</th>\n",
       "      <th>retweet_date</th>\n",
       "      <th>translate</th>\n",
       "      <th>trans_src</th>\n",
       "      <th>trans_dest</th>\n",
       "      <th>scores</th>\n",
       "      <th>compound</th>\n",
       "      <th>comp_score</th>\n",
       "      <th>scores_text_blob</th>\n",
       "      <th>comp_score_text_blob</th>\n",
       "      <th>scores_flair</th>\n",
       "    </tr>\n",
       "  </thead>\n",
       "  <tbody>\n",
       "    <tr>\n",
       "      <th>0</th>\n",
       "      <td>1369812663623180288</td>\n",
       "      <td>2021-03-11 6:19:23</td>\n",
       "      <td>In great news my senior parents are getting th...</td>\n",
       "      <td>2.0</td>\n",
       "      <td>POSITIVE</td>\n",
       "      <td>POSITIVE</td>\n",
       "      <td>1</td>\n",
       "      <td>['great news', 'senior', 'vaccine', 'thank', '...</td>\n",
       "      <td>1369812663623180288</td>\n",
       "      <td>2021-03-11</td>\n",
       "      <td>...</td>\n",
       "      <td>NaN</td>\n",
       "      <td>NaN</td>\n",
       "      <td>NaN</td>\n",
       "      <td>NaN</td>\n",
       "      <td>{'neg': 0.0, 'neu': 0.575, 'pos': 0.425, 'comp...</td>\n",
       "      <td>0.8625</td>\n",
       "      <td>POSITIVE</td>\n",
       "      <td>0.800000</td>\n",
       "      <td>POSITIVE</td>\n",
       "      <td>POSITIVE</td>\n",
       "    </tr>\n",
       "    <tr>\n",
       "      <th>1</th>\n",
       "      <td>1354514776534220804</td>\n",
       "      <td>2021-01-28 1:11:03</td>\n",
       "      <td>Our Co-Founder and CEO &lt;USER&gt; recently receive...</td>\n",
       "      <td>2.0</td>\n",
       "      <td>POSITIVE</td>\n",
       "      <td>NEGATIVE</td>\n",
       "      <td>0</td>\n",
       "      <td>['founder', 'recent', 'covid', 'vaccine', 'vac...</td>\n",
       "      <td>1354514776534220804</td>\n",
       "      <td>2021-01-28</td>\n",
       "      <td>...</td>\n",
       "      <td>NaN</td>\n",
       "      <td>NaN</td>\n",
       "      <td>NaN</td>\n",
       "      <td>NaN</td>\n",
       "      <td>{'neg': 0.0, 'neu': 0.725, 'pos': 0.275, 'comp...</td>\n",
       "      <td>0.9230</td>\n",
       "      <td>POSITIVE</td>\n",
       "      <td>0.516667</td>\n",
       "      <td>POSITIVE</td>\n",
       "      <td>POSITIVE</td>\n",
       "    </tr>\n",
       "    <tr>\n",
       "      <th>2</th>\n",
       "      <td>1349045265945264130</td>\n",
       "      <td>2021-01-12 22:57:10</td>\n",
       "      <td>\"This is all we have left. This can't fail.\" &lt;...</td>\n",
       "      <td>0.2</td>\n",
       "      <td>POSITIVE</td>\n",
       "      <td>POSITIVE</td>\n",
       "      <td>1</td>\n",
       "      <td>['fail', 'make', 'vaccine', 'priority', 'plus'...</td>\n",
       "      <td>1349045265945264130</td>\n",
       "      <td>2021-01-12</td>\n",
       "      <td>...</td>\n",
       "      <td>NaN</td>\n",
       "      <td>NaN</td>\n",
       "      <td>NaN</td>\n",
       "      <td>NaN</td>\n",
       "      <td>{'neg': 0.0, 'neu': 1.0, 'pos': 0.0, 'compound...</td>\n",
       "      <td>0.0000</td>\n",
       "      <td>POSITIVE</td>\n",
       "      <td>-0.250000</td>\n",
       "      <td>NEGATIVE</td>\n",
       "      <td>NEGATIVE</td>\n",
       "    </tr>\n",
       "    <tr>\n",
       "      <th>3</th>\n",
       "      <td>1366793773728980992</td>\n",
       "      <td>2021-03-02 22:23:24</td>\n",
       "      <td>Dear #MAGA Trump NEVER cared about you. He Jim...</td>\n",
       "      <td>-1.2</td>\n",
       "      <td>NEGATIVE</td>\n",
       "      <td>POSITIVE</td>\n",
       "      <td>0</td>\n",
       "      <td>['cared', 'stop', 'punch', 'plane', 'traitor',...</td>\n",
       "      <td>1366793773728980992</td>\n",
       "      <td>2021-03-02</td>\n",
       "      <td>...</td>\n",
       "      <td>NaN</td>\n",
       "      <td>NaN</td>\n",
       "      <td>NaN</td>\n",
       "      <td>NaN</td>\n",
       "      <td>{'neg': 0.183, 'neu': 0.719, 'pos': 0.098, 'co...</td>\n",
       "      <td>-0.3013</td>\n",
       "      <td>NEGATIVE</td>\n",
       "      <td>0.000000</td>\n",
       "      <td>POSITIVE</td>\n",
       "      <td>NEGATIVE</td>\n",
       "    </tr>\n",
       "    <tr>\n",
       "      <th>4</th>\n",
       "      <td>1371004616897269763</td>\n",
       "      <td>2021-03-14 13:15:47</td>\n",
       "      <td>I am all for risk triaging and in turn getting...</td>\n",
       "      <td>-1.1</td>\n",
       "      <td>NEGATIVE</td>\n",
       "      <td>POSITIVE</td>\n",
       "      <td>0</td>\n",
       "      <td>['health care', 'risk', 'turn', 'vaccine', 'va...</td>\n",
       "      <td>1371004616897269763</td>\n",
       "      <td>2021-03-14</td>\n",
       "      <td>...</td>\n",
       "      <td>NaN</td>\n",
       "      <td>NaN</td>\n",
       "      <td>NaN</td>\n",
       "      <td>NaN</td>\n",
       "      <td>{'neg': 0.042, 'neu': 0.841, 'pos': 0.117, 'co...</td>\n",
       "      <td>0.5789</td>\n",
       "      <td>POSITIVE</td>\n",
       "      <td>0.291667</td>\n",
       "      <td>POSITIVE</td>\n",
       "      <td>NEGATIVE</td>\n",
       "    </tr>\n",
       "  </tbody>\n",
       "</table>\n",
       "<p>5 rows × 47 columns</p>\n",
       "</div>"
      ],
      "text/plain": [
       "                    id           created_at  \\\n",
       "0  1369812663623180288   2021-03-11 6:19:23   \n",
       "1  1354514776534220804   2021-01-28 1:11:03   \n",
       "2  1349045265945264130  2021-01-12 22:57:10   \n",
       "3  1366793773728980992  2021-03-02 22:23:24   \n",
       "4  1371004616897269763  2021-03-14 13:15:47   \n",
       "\n",
       "                                               tweet  sum true_value  \\\n",
       "0  In great news my senior parents are getting th...  2.0   POSITIVE   \n",
       "1  Our Co-Founder and CEO <USER> recently receive...  2.0   POSITIVE   \n",
       "2  \"This is all we have left. This can't fail.\" <...  0.2   POSITIVE   \n",
       "3  Dear #MAGA Trump NEVER cared about you. He Jim... -1.2   NEGATIVE   \n",
       "4  I am all for risk triaging and in turn getting... -1.1   NEGATIVE   \n",
       "\n",
       "  polarity_api_output  is_same  \\\n",
       "0            POSITIVE        1   \n",
       "1            NEGATIVE        0   \n",
       "2            POSITIVE        1   \n",
       "3            POSITIVE        0   \n",
       "4            POSITIVE        0   \n",
       "\n",
       "                                  concept_api_output      conversation_id  \\\n",
       "0  ['great news', 'senior', 'vaccine', 'thank', '...  1369812663623180288   \n",
       "1  ['founder', 'recent', 'covid', 'vaccine', 'vac...  1354514776534220804   \n",
       "2  ['fail', 'make', 'vaccine', 'priority', 'plus'...  1349045265945264130   \n",
       "3  ['cared', 'stop', 'punch', 'plane', 'traitor',...  1366793773728980992   \n",
       "4  ['health care', 'risk', 'turn', 'vaccine', 'va...  1371004616897269763   \n",
       "\n",
       "         date  ... retweet_date  translate  trans_src trans_dest  \\\n",
       "0  2021-03-11  ...          NaN        NaN        NaN        NaN   \n",
       "1  2021-01-28  ...          NaN        NaN        NaN        NaN   \n",
       "2  2021-01-12  ...          NaN        NaN        NaN        NaN   \n",
       "3  2021-03-02  ...          NaN        NaN        NaN        NaN   \n",
       "4  2021-03-14  ...          NaN        NaN        NaN        NaN   \n",
       "\n",
       "                                              scores compound comp_score  \\\n",
       "0  {'neg': 0.0, 'neu': 0.575, 'pos': 0.425, 'comp...   0.8625   POSITIVE   \n",
       "1  {'neg': 0.0, 'neu': 0.725, 'pos': 0.275, 'comp...   0.9230   POSITIVE   \n",
       "2  {'neg': 0.0, 'neu': 1.0, 'pos': 0.0, 'compound...   0.0000   POSITIVE   \n",
       "3  {'neg': 0.183, 'neu': 0.719, 'pos': 0.098, 'co...  -0.3013   NEGATIVE   \n",
       "4  {'neg': 0.042, 'neu': 0.841, 'pos': 0.117, 'co...   0.5789   POSITIVE   \n",
       "\n",
       "  scores_text_blob comp_score_text_blob scores_flair  \n",
       "0         0.800000             POSITIVE     POSITIVE  \n",
       "1         0.516667             POSITIVE     POSITIVE  \n",
       "2        -0.250000             NEGATIVE     NEGATIVE  \n",
       "3         0.000000             POSITIVE     NEGATIVE  \n",
       "4         0.291667             POSITIVE     NEGATIVE  \n",
       "\n",
       "[5 rows x 47 columns]"
      ]
     },
     "execution_count": 13,
     "metadata": {},
     "output_type": "execute_result"
    }
   ],
   "source": [
    "df.head(5)"
   ]
  },
  {
   "cell_type": "code",
   "execution_count": 14,
   "id": "c21275ae",
   "metadata": {},
   "outputs": [],
   "source": [
    "y_true = df['true_value'].to_numpy()\n",
    "y_pred_vader = df['comp_score'].to_numpy()\n",
    "y_pred_sentic = df['polarity_api_output'].to_numpy()\n",
    "y_pred_text_blob = df['comp_score_text_blob'].to_numpy()\n",
    "y_pred_flair = df['scores_flair'].to_numpy()"
   ]
  },
  {
   "cell_type": "code",
   "execution_count": 15,
   "id": "c04d2349",
   "metadata": {},
   "outputs": [],
   "source": [
    "def calc_label(y):\n",
    "    x = y.copy()\n",
    "    x[x==\"POSITIVE\"] = int(1)\n",
    "    x[x==\"NEGATIVE\"] = int(-1)\n",
    "    return x.astype('int64')"
   ]
  },
  {
   "cell_type": "code",
   "execution_count": 16,
   "id": "6f2a8e71",
   "metadata": {},
   "outputs": [],
   "source": [
    "def calc_ensemble(y1, y2, y3):\n",
    "    x1, x2, x3 = calc_label(y1), calc_label(y2), calc_label(y3)\n",
    "    ans = np.zeros(y1.shape)\n",
    "    \n",
    "    ans[(x1+x2+x3)>=0] = 1\n",
    "    ans[(x1+x2+x3)<0] = -1\n",
    "    print(x1[:10])\n",
    "    print(x2[:10])\n",
    "    print(x3[:10])\n",
    "    print(ans[:10])\n",
    "    print(calc_label(y_true)[:10])\n",
    "    return ans.astype('int64')"
   ]
  },
  {
   "cell_type": "code",
   "execution_count": 17,
   "id": "54a5eab5",
   "metadata": {},
   "outputs": [
    {
     "name": "stdout",
     "output_type": "stream",
     "text": [
      "              precision    recall  f1-score   support\n",
      "\n",
      "          -1       0.52      0.51      0.52       171\n",
      "           1       0.75      0.76      0.75       329\n",
      "\n",
      "    accuracy                           0.67       500\n",
      "   macro avg       0.64      0.63      0.64       500\n",
      "weighted avg       0.67      0.67      0.67       500\n",
      "\n"
     ]
    }
   ],
   "source": [
    "print(classification_report(calc_label(y_true), calc_label(y_pred_sentic)))"
   ]
  },
  {
   "cell_type": "code",
   "execution_count": 18,
   "id": "75e9506e",
   "metadata": {},
   "outputs": [
    {
     "name": "stdout",
     "output_type": "stream",
     "text": [
      "              precision    recall  f1-score   support\n",
      "\n",
      "          -1       0.85      0.51      0.64       171\n",
      "           1       0.79      0.95      0.86       329\n",
      "\n",
      "    accuracy                           0.80       500\n",
      "   macro avg       0.82      0.73      0.75       500\n",
      "weighted avg       0.81      0.80      0.79       500\n",
      "\n"
     ]
    }
   ],
   "source": [
    "print(classification_report(calc_label(y_true), calc_label(y_pred_vader)))"
   ]
  },
  {
   "cell_type": "code",
   "execution_count": 19,
   "id": "70c6f86b",
   "metadata": {},
   "outputs": [
    {
     "name": "stdout",
     "output_type": "stream",
     "text": [
      "              precision    recall  f1-score   support\n",
      "\n",
      "          -1       0.65      0.37      0.47       171\n",
      "           1       0.73      0.89      0.81       329\n",
      "\n",
      "    accuracy                           0.72       500\n",
      "   macro avg       0.69      0.63      0.64       500\n",
      "weighted avg       0.70      0.72      0.69       500\n",
      "\n"
     ]
    }
   ],
   "source": [
    "print(classification_report(calc_label(y_true), calc_label(y_pred_text_blob)))"
   ]
  },
  {
   "cell_type": "code",
   "execution_count": 20,
   "id": "5eab64e0",
   "metadata": {},
   "outputs": [
    {
     "name": "stdout",
     "output_type": "stream",
     "text": [
      "[ 1 -1  1  1  1  1  1 -1  1  1]\n",
      "[ 1  1  1 -1  1  1  1  1  1 -1]\n",
      "[ 1  1 -1  1  1  1  1  1  1  1]\n",
      "[1. 1. 1. 1. 1. 1. 1. 1. 1. 1.]\n",
      "[ 1  1  1 -1 -1  1 -1  1  1 -1]\n",
      "              precision    recall  f1-score   support\n",
      "\n",
      "          -1       0.84      0.42      0.56       171\n",
      "           1       0.76      0.96      0.85       329\n",
      "\n",
      "    accuracy                           0.77       500\n",
      "   macro avg       0.80      0.69      0.70       500\n",
      "weighted avg       0.79      0.77      0.75       500\n",
      "\n"
     ]
    }
   ],
   "source": [
    "print(classification_report(calc_label(y_true), calc_ensemble(y_pred_sentic, y_pred_vader, y_pred_text_blob)))"
   ]
  },
  {
   "cell_type": "code",
   "execution_count": 21,
   "id": "f4911c7b",
   "metadata": {},
   "outputs": [
    {
     "name": "stdout",
     "output_type": "stream",
     "text": [
      "              precision    recall  f1-score   support\n",
      "\n",
      "          -1       0.60      0.85      0.70       171\n",
      "           1       0.90      0.70      0.79       329\n",
      "\n",
      "    accuracy                           0.75       500\n",
      "   macro avg       0.75      0.78      0.75       500\n",
      "weighted avg       0.80      0.75      0.76       500\n",
      "\n"
     ]
    }
   ],
   "source": [
    "print(classification_report(calc_label(y_true), calc_label(y_pred_flair)))"
   ]
  }
 ],
 "metadata": {
  "kernelspec": {
   "display_name": "Python 3 (ipykernel)",
   "language": "python",
   "name": "python3"
  },
  "language_info": {
   "codemirror_mode": {
    "name": "ipython",
    "version": 3
   },
   "file_extension": ".py",
   "mimetype": "text/x-python",
   "name": "python",
   "nbconvert_exporter": "python",
   "pygments_lexer": "ipython3",
   "version": "3.8.10"
  }
 },
 "nbformat": 4,
 "nbformat_minor": 5
}
