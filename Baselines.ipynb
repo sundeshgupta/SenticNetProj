{
 "cells": [
  {
   "cell_type": "code",
   "execution_count": 1,
   "id": "1df48b50",
   "metadata": {},
   "outputs": [],
   "source": [
    "import nltk\n",
    "import pandas as pd\n",
    "from sklearn.metrics import classification_report, f1_score, accuracy_score\n",
    "import numpy as np\n",
    "import re"
   ]
  },
  {
   "cell_type": "code",
   "execution_count": 2,
   "id": "9e43a8bd",
   "metadata": {},
   "outputs": [
    {
     "name": "stdout",
     "output_type": "stream",
     "text": [
      "2021-12-11 18:36:46,899 loading file /home/sundesh/.flair/models/sentiment-en-mix-distillbert_4.pt\n"
     ]
    }
   ],
   "source": [
    "import flair\n",
    "flair_sentiment = flair.models.TextClassifier.load('en-sentiment')"
   ]
  },
  {
   "cell_type": "code",
   "execution_count": 3,
   "id": "2e3b9687",
   "metadata": {},
   "outputs": [],
   "source": [
    "import nltk\n",
    "from nltk.sentiment.vader import SentimentIntensityAnalyzer\n",
    "\n",
    "sid = SentimentIntensityAnalyzer()"
   ]
  },
  {
   "cell_type": "code",
   "execution_count": 4,
   "id": "bbbe214b",
   "metadata": {},
   "outputs": [],
   "source": [
    "from textblob import TextBlob"
   ]
  },
  {
   "cell_type": "code",
   "execution_count": 5,
   "id": "3ad4ff11",
   "metadata": {},
   "outputs": [],
   "source": [
    "df = pd.read_csv('./gold_output.csv')"
   ]
  },
  {
   "cell_type": "code",
   "execution_count": 6,
   "id": "cfa741ad",
   "metadata": {},
   "outputs": [],
   "source": [
    "df['scores'] = df['tweet'].apply(lambda review: sid.polarity_scores(review))"
   ]
  },
  {
   "cell_type": "code",
   "execution_count": 7,
   "id": "a6e91175",
   "metadata": {},
   "outputs": [],
   "source": [
    "df['compound']  = df['scores'].apply(lambda score_dict: score_dict['compound'])"
   ]
  },
  {
   "cell_type": "code",
   "execution_count": 8,
   "id": "70945fca",
   "metadata": {},
   "outputs": [],
   "source": [
    "df['comp_score'] = df['compound'].apply(lambda c: 'POSITIVE' if c >=0 else 'NEGATIVE')"
   ]
  },
  {
   "cell_type": "code",
   "execution_count": 9,
   "id": "1c1e3035",
   "metadata": {},
   "outputs": [],
   "source": [
    "df['scores_text_blob'] = df['tweet'].apply(lambda review: TextBlob(review).sentiment.polarity)\n",
    "df['comp_score_text_blob'] = df['scores_text_blob'].apply(lambda c: 'POSITIVE' if c >=0 else 'NEGATIVE')"
   ]
  },
  {
   "cell_type": "code",
   "execution_count": 10,
   "id": "b0107176",
   "metadata": {},
   "outputs": [],
   "source": [
    "def comp_score_flair(text):\n",
    "    s = flair.data.Sentence(text)\n",
    "    flair_sentiment.predict(s)\n",
    "    total_sentiment = s.labels\n",
    "    return str(total_sentiment[0]).split(' ')[0]\n",
    "\n",
    "def score_flair(text):\n",
    "    s = flair.data.Sentence(text)\n",
    "    flair_sentiment.predict(s)\n",
    "    total_sentiment = s.labels\n",
    "    temp = str(total_sentiment[0]).split(' ')[0]\n",
    "    if temp == \"POSITIVE\":\n",
    "        return float(str(total_sentiment[0]).split(' ')[1][1:-1])\n",
    "    else:\n",
    "        return -float(str(total_sentiment[0]).split(' ')[1][1:-1])\n",
    "\n",
    "df['score_flair'] = df['tweet'].apply(score_flair)    \n",
    "df['comp_score_flair'] = df['tweet'].apply(comp_score_flair)"
   ]
  },
  {
   "cell_type": "code",
   "execution_count": 11,
   "id": "f2a1d265",
   "metadata": {},
   "outputs": [
    {
     "data": {
      "text/html": [
       "<div>\n",
       "<style scoped>\n",
       "    .dataframe tbody tr th:only-of-type {\n",
       "        vertical-align: middle;\n",
       "    }\n",
       "\n",
       "    .dataframe tbody tr th {\n",
       "        vertical-align: top;\n",
       "    }\n",
       "\n",
       "    .dataframe thead th {\n",
       "        text-align: right;\n",
       "    }\n",
       "</style>\n",
       "<table border=\"1\" class=\"dataframe\">\n",
       "  <thead>\n",
       "    <tr style=\"text-align: right;\">\n",
       "      <th></th>\n",
       "      <th>Unnamed: 0</th>\n",
       "      <th>id</th>\n",
       "      <th>created_at</th>\n",
       "      <th>tweet</th>\n",
       "      <th>sum</th>\n",
       "      <th>true_value</th>\n",
       "      <th>polarity_api_output</th>\n",
       "      <th>is_same</th>\n",
       "      <th>concept_api_output</th>\n",
       "      <th>intensity_api_output</th>\n",
       "      <th>aspect_api_output</th>\n",
       "      <th>scores</th>\n",
       "      <th>compound</th>\n",
       "      <th>comp_score</th>\n",
       "      <th>scores_text_blob</th>\n",
       "      <th>comp_score_text_blob</th>\n",
       "      <th>score_flair</th>\n",
       "      <th>comp_score_flair</th>\n",
       "    </tr>\n",
       "  </thead>\n",
       "  <tbody>\n",
       "    <tr>\n",
       "      <th>0</th>\n",
       "      <td>0</td>\n",
       "      <td>1369812663623180288</td>\n",
       "      <td>2021-03-11 6:19:23</td>\n",
       "      <td>In great news my senior parents are getting th...</td>\n",
       "      <td>2.0</td>\n",
       "      <td>POSITIVE</td>\n",
       "      <td>POSITIVE</td>\n",
       "      <td>1</td>\n",
       "      <td>['great news', 'senior', 'vaccine', 'thank', '...</td>\n",
       "      <td>0.769</td>\n",
       "      <td>[('getting', 'POSITIVE'), ('whew', 'POSITIVE')]</td>\n",
       "      <td>{'neg': 0.0, 'neu': 0.575, 'pos': 0.425, 'comp...</td>\n",
       "      <td>0.8625</td>\n",
       "      <td>POSITIVE</td>\n",
       "      <td>0.800000</td>\n",
       "      <td>POSITIVE</td>\n",
       "      <td>0.9949</td>\n",
       "      <td>POSITIVE</td>\n",
       "    </tr>\n",
       "    <tr>\n",
       "      <th>1</th>\n",
       "      <td>1</td>\n",
       "      <td>1354514776534220804</td>\n",
       "      <td>2021-01-28 1:11:03</td>\n",
       "      <td>Our Co-Founder and CEO &lt;USER&gt; recently receive...</td>\n",
       "      <td>2.0</td>\n",
       "      <td>POSITIVE</td>\n",
       "      <td>NEGATIVE</td>\n",
       "      <td>0</td>\n",
       "      <td>['founder', 'recent', 'covid', 'vaccine', 'vac...</td>\n",
       "      <td>-0.821</td>\n",
       "      <td>[('vaccine', 'POSITIVE'), ('must', 'POSITIVE')...</td>\n",
       "      <td>{'neg': 0.0, 'neu': 0.725, 'pos': 0.275, 'comp...</td>\n",
       "      <td>0.9230</td>\n",
       "      <td>POSITIVE</td>\n",
       "      <td>0.516667</td>\n",
       "      <td>POSITIVE</td>\n",
       "      <td>0.7248</td>\n",
       "      <td>POSITIVE</td>\n",
       "    </tr>\n",
       "    <tr>\n",
       "      <th>2</th>\n",
       "      <td>2</td>\n",
       "      <td>1349045265945264130</td>\n",
       "      <td>2021-01-12 22:57:10</td>\n",
       "      <td>\"This is all we have left. This can't fail.\" &lt;...</td>\n",
       "      <td>0.2</td>\n",
       "      <td>POSITIVE</td>\n",
       "      <td>POSITIVE</td>\n",
       "      <td>1</td>\n",
       "      <td>['fail', 'make', 'vaccine', 'priority', 'plus'...</td>\n",
       "      <td>0.814</td>\n",
       "      <td>[('mass', 'POSITIVE'), ('ANNOYANCE', 'POSITIVE...</td>\n",
       "      <td>{'neg': 0.0, 'neu': 1.0, 'pos': 0.0, 'compound...</td>\n",
       "      <td>0.0000</td>\n",
       "      <td>POSITIVE</td>\n",
       "      <td>-0.250000</td>\n",
       "      <td>NEGATIVE</td>\n",
       "      <td>-0.9779</td>\n",
       "      <td>NEGATIVE</td>\n",
       "    </tr>\n",
       "    <tr>\n",
       "      <th>3</th>\n",
       "      <td>3</td>\n",
       "      <td>1366793773728980992</td>\n",
       "      <td>2021-03-02 22:23:24</td>\n",
       "      <td>Dear #MAGA Trump NEVER cared about you. He Jim...</td>\n",
       "      <td>-1.2</td>\n",
       "      <td>NEGATIVE</td>\n",
       "      <td>POSITIVE</td>\n",
       "      <td>0</td>\n",
       "      <td>['cared', 'stop', 'punch', 'plane', 'traitor',...</td>\n",
       "      <td>0.769</td>\n",
       "      <td>[('drink', 'NEGATIVE'), ('plan', 'POSITIVE')]</td>\n",
       "      <td>{'neg': 0.183, 'neu': 0.719, 'pos': 0.098, 'co...</td>\n",
       "      <td>-0.3013</td>\n",
       "      <td>NEGATIVE</td>\n",
       "      <td>0.000000</td>\n",
       "      <td>POSITIVE</td>\n",
       "      <td>-0.9990</td>\n",
       "      <td>NEGATIVE</td>\n",
       "    </tr>\n",
       "    <tr>\n",
       "      <th>4</th>\n",
       "      <td>4</td>\n",
       "      <td>1371004616897269763</td>\n",
       "      <td>2021-03-14 13:15:47</td>\n",
       "      <td>I am all for risk triaging and in turn getting...</td>\n",
       "      <td>-1.1</td>\n",
       "      <td>NEGATIVE</td>\n",
       "      <td>POSITIVE</td>\n",
       "      <td>0</td>\n",
       "      <td>['health care', 'risk', 'turn', 'vaccine', 'va...</td>\n",
       "      <td>0.769</td>\n",
       "      <td>[('getting', 'POSITIVE'), ('more', 'POSITIVE')...</td>\n",
       "      <td>{'neg': 0.042, 'neu': 0.841, 'pos': 0.117, 'co...</td>\n",
       "      <td>0.5789</td>\n",
       "      <td>POSITIVE</td>\n",
       "      <td>0.291667</td>\n",
       "      <td>POSITIVE</td>\n",
       "      <td>-0.9210</td>\n",
       "      <td>NEGATIVE</td>\n",
       "    </tr>\n",
       "  </tbody>\n",
       "</table>\n",
       "</div>"
      ],
      "text/plain": [
       "   Unnamed: 0                   id           created_at  \\\n",
       "0           0  1369812663623180288   2021-03-11 6:19:23   \n",
       "1           1  1354514776534220804   2021-01-28 1:11:03   \n",
       "2           2  1349045265945264130  2021-01-12 22:57:10   \n",
       "3           3  1366793773728980992  2021-03-02 22:23:24   \n",
       "4           4  1371004616897269763  2021-03-14 13:15:47   \n",
       "\n",
       "                                               tweet  sum true_value  \\\n",
       "0  In great news my senior parents are getting th...  2.0   POSITIVE   \n",
       "1  Our Co-Founder and CEO <USER> recently receive...  2.0   POSITIVE   \n",
       "2  \"This is all we have left. This can't fail.\" <...  0.2   POSITIVE   \n",
       "3  Dear #MAGA Trump NEVER cared about you. He Jim... -1.2   NEGATIVE   \n",
       "4  I am all for risk triaging and in turn getting... -1.1   NEGATIVE   \n",
       "\n",
       "  polarity_api_output  is_same  \\\n",
       "0            POSITIVE        1   \n",
       "1            NEGATIVE        0   \n",
       "2            POSITIVE        1   \n",
       "3            POSITIVE        0   \n",
       "4            POSITIVE        0   \n",
       "\n",
       "                                  concept_api_output  intensity_api_output  \\\n",
       "0  ['great news', 'senior', 'vaccine', 'thank', '...                 0.769   \n",
       "1  ['founder', 'recent', 'covid', 'vaccine', 'vac...                -0.821   \n",
       "2  ['fail', 'make', 'vaccine', 'priority', 'plus'...                 0.814   \n",
       "3  ['cared', 'stop', 'punch', 'plane', 'traitor',...                 0.769   \n",
       "4  ['health care', 'risk', 'turn', 'vaccine', 'va...                 0.769   \n",
       "\n",
       "                                   aspect_api_output  \\\n",
       "0    [('getting', 'POSITIVE'), ('whew', 'POSITIVE')]   \n",
       "1  [('vaccine', 'POSITIVE'), ('must', 'POSITIVE')...   \n",
       "2  [('mass', 'POSITIVE'), ('ANNOYANCE', 'POSITIVE...   \n",
       "3      [('drink', 'NEGATIVE'), ('plan', 'POSITIVE')]   \n",
       "4  [('getting', 'POSITIVE'), ('more', 'POSITIVE')...   \n",
       "\n",
       "                                              scores  compound comp_score  \\\n",
       "0  {'neg': 0.0, 'neu': 0.575, 'pos': 0.425, 'comp...    0.8625   POSITIVE   \n",
       "1  {'neg': 0.0, 'neu': 0.725, 'pos': 0.275, 'comp...    0.9230   POSITIVE   \n",
       "2  {'neg': 0.0, 'neu': 1.0, 'pos': 0.0, 'compound...    0.0000   POSITIVE   \n",
       "3  {'neg': 0.183, 'neu': 0.719, 'pos': 0.098, 'co...   -0.3013   NEGATIVE   \n",
       "4  {'neg': 0.042, 'neu': 0.841, 'pos': 0.117, 'co...    0.5789   POSITIVE   \n",
       "\n",
       "   scores_text_blob comp_score_text_blob  score_flair comp_score_flair  \n",
       "0          0.800000             POSITIVE       0.9949         POSITIVE  \n",
       "1          0.516667             POSITIVE       0.7248         POSITIVE  \n",
       "2         -0.250000             NEGATIVE      -0.9779         NEGATIVE  \n",
       "3          0.000000             POSITIVE      -0.9990         NEGATIVE  \n",
       "4          0.291667             POSITIVE      -0.9210         NEGATIVE  "
      ]
     },
     "execution_count": 11,
     "metadata": {},
     "output_type": "execute_result"
    }
   ],
   "source": [
    "df.head(5)"
   ]
  },
  {
   "cell_type": "code",
   "execution_count": 12,
   "id": "f8cf67ac",
   "metadata": {},
   "outputs": [],
   "source": [
    "y_true = df['true_value'].to_numpy()\n",
    "y_pred_vader = df['comp_score'].to_numpy()\n",
    "y_pred_sentic = df['polarity_api_output'].to_numpy()\n",
    "y_pred_text_blob = df['comp_score_text_blob'].to_numpy()\n",
    "y_pred_flair = df['comp_score_flair'].to_numpy()"
   ]
  },
  {
   "cell_type": "code",
   "execution_count": 13,
   "id": "10bc52e3",
   "metadata": {},
   "outputs": [],
   "source": [
    "def calc_label(y):\n",
    "    x = y.copy()\n",
    "    x[x==\"POSITIVE\"] = int(1)\n",
    "    x[x==\"NEGATIVE\"] = int(-1)\n",
    "    return x.astype('int64')"
   ]
  },
  {
   "cell_type": "code",
   "execution_count": 14,
   "id": "f1a296d2",
   "metadata": {},
   "outputs": [],
   "source": [
    "def calc_ensemble(y1, y2, y3):\n",
    "    x1, x2, x3 = y1.copy(), y2.copy(), y3.copy()\n",
    "    ans = np.zeros(y1.shape)\n",
    "#     x1 = (x1-np.mean(x1))/(np.std(x1))\n",
    "#     x2 = (x2-np.mean(x2))/(np.std(x2))\n",
    "#     x3 = (x3-np.mean(x3))/(np.std(x3))\n",
    "    x1 = 0.8*x1\n",
    "    x2 = 0.0*x2\n",
    "    x3 = 0.0*x3\n",
    "    ans[(x1+x2+x3)>=0] = 1\n",
    "    ans[(x1+x2+x3)<0] = -1\n",
    "    return ans.astype('int64')"
   ]
  },
  {
   "cell_type": "code",
   "execution_count": 15,
   "id": "bebf7add",
   "metadata": {},
   "outputs": [
    {
     "name": "stdout",
     "output_type": "stream",
     "text": [
      "F1: 0.7541478129713424 Acc: 0.674\n"
     ]
    }
   ],
   "source": [
    "print(\"F1:\", f1_score(calc_label(y_true), calc_label(y_pred_sentic)), \n",
    "      \"Acc:\", accuracy_score(calc_label(y_true), calc_label(y_pred_sentic)))"
   ]
  },
  {
   "cell_type": "code",
   "execution_count": 16,
   "id": "deeb913e",
   "metadata": {},
   "outputs": [
    {
     "name": "stdout",
     "output_type": "stream",
     "text": [
      "F1: 0.8634482758620691 Acc: 0.802\n"
     ]
    }
   ],
   "source": [
    "print(\"F1:\", f1_score(calc_label(y_true), calc_label(y_pred_vader)),\n",
    "     \"Acc:\", accuracy_score(calc_label(y_true), calc_label(y_pred_vader)))"
   ]
  },
  {
   "cell_type": "code",
   "execution_count": 17,
   "id": "879dc57d",
   "metadata": {},
   "outputs": [
    {
     "name": "stdout",
     "output_type": "stream",
     "text": [
      "F1: 0.8054794520547945 Acc: 0.716\n"
     ]
    }
   ],
   "source": [
    "print(\"F1:\", f1_score(calc_label(y_true), calc_label(y_pred_text_blob)),\n",
    "     \"Acc:\", accuracy_score(calc_label(y_true), calc_label(y_pred_text_blob)))"
   ]
  },
  {
   "cell_type": "code",
   "execution_count": 18,
   "id": "059314c4",
   "metadata": {},
   "outputs": [
    {
     "name": "stdout",
     "output_type": "stream",
     "text": [
      "F1: 0.7897435897435898 Acc: 0.754\n"
     ]
    }
   ],
   "source": [
    "print(\"F1:\", f1_score(calc_label(y_true), calc_label(y_pred_flair)),\n",
    "     \"Acc:\", accuracy_score(calc_label(y_true), calc_label(y_pred_flair)))"
   ]
  },
  {
   "cell_type": "code",
   "execution_count": 19,
   "id": "5dbed94f",
   "metadata": {},
   "outputs": [
    {
     "data": {
      "text/plain": [
       "0.7897435897435898"
      ]
     },
     "execution_count": 19,
     "metadata": {},
     "output_type": "execute_result"
    }
   ],
   "source": [
    "f1_score(calc_label(y_true), calc_label(y_pred_flair))"
   ]
  },
  {
   "cell_type": "code",
   "execution_count": 20,
   "id": "6ccdbfc5",
   "metadata": {},
   "outputs": [
    {
     "name": "stdout",
     "output_type": "stream",
     "text": [
      "0.8634482758620691\n",
      "0.802\n"
     ]
    }
   ],
   "source": [
    "print(f1_score(calc_label(y_true), calc_ensemble(df['compound'].to_numpy(), \n",
    "                                                              df['scores_text_blob'].to_numpy(), \n",
    "                                                              df['score_flair'].to_numpy())))\n",
    "print(accuracy_score(calc_label(y_true), calc_ensemble(df['compound'].to_numpy(), \n",
    "                                                              df['scores_text_blob'].to_numpy(), \n",
    "                                                              df['score_flair'].to_numpy())))"
   ]
  },
  {
   "cell_type": "code",
   "execution_count": null,
   "id": "aab5e044",
   "metadata": {},
   "outputs": [],
   "source": []
  }
 ],
 "metadata": {
  "kernelspec": {
   "display_name": "Python 3",
   "language": "python",
   "name": "python3"
  },
  "language_info": {
   "codemirror_mode": {
    "name": "ipython",
    "version": 3
   },
   "file_extension": ".py",
   "mimetype": "text/x-python",
   "name": "python",
   "nbconvert_exporter": "python",
   "pygments_lexer": "ipython3",
   "version": "3.6.9"
  }
 },
 "nbformat": 4,
 "nbformat_minor": 5
}
